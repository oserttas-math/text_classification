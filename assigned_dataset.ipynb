{
 "cells": [
  {
   "cell_type": "code",
   "execution_count": 1,
   "metadata": {},
   "outputs": [],
   "source": [
    "import warnings\n",
    "warnings.filterwarnings('ignore')\n",
    "\n",
    "import pandas as pd\n",
    "import numpy as np\n",
    "import matplotlib.pyplot as plt\n",
    "import seaborn as sns\n",
    "\n",
    "from sklearn.feature_extraction.text import CountVectorizer\n",
    "from sklearn.feature_extraction.text import TfidfVectorizer\n",
    "from sklearn.naive_bayes import MultinomialNB\n",
    "from sklearn.model_selection import train_test_split\n",
    "\n",
    "%matplotlib inline"
   ]
  },
  {
   "cell_type": "code",
   "execution_count": 2,
   "metadata": {},
   "outputs": [
    {
     "name": "stdout",
     "output_type": "stream",
     "text": [
      "<class 'pandas.core.frame.DataFrame'>\n",
      "RangeIndex: 27631 entries, 0 to 27630\n",
      "Data columns (total 8 columns):\n",
      "critic         23740 non-null object\n",
      "fresh          27631 non-null object\n",
      "imdb           27631 non-null int64\n",
      "publication    27631 non-null object\n",
      "quote          15561 non-null object\n",
      "review_date    27631 non-null object\n",
      "rtid           27631 non-null int64\n",
      "title          27631 non-null object\n",
      "dtypes: int64(2), object(6)\n",
      "memory usage: 1.7+ MB\n",
      "None\n"
     ]
    },
    {
     "data": {
      "text/html": [
       "<div>\n",
       "<style scoped>\n",
       "    .dataframe tbody tr th:only-of-type {\n",
       "        vertical-align: middle;\n",
       "    }\n",
       "\n",
       "    .dataframe tbody tr th {\n",
       "        vertical-align: top;\n",
       "    }\n",
       "\n",
       "    .dataframe thead th {\n",
       "        text-align: right;\n",
       "    }\n",
       "</style>\n",
       "<table border=\"1\" class=\"dataframe\">\n",
       "  <thead>\n",
       "    <tr style=\"text-align: right;\">\n",
       "      <th></th>\n",
       "      <th>critic</th>\n",
       "      <th>fresh</th>\n",
       "      <th>imdb</th>\n",
       "      <th>publication</th>\n",
       "      <th>quote</th>\n",
       "      <th>review_date</th>\n",
       "      <th>rtid</th>\n",
       "      <th>title</th>\n",
       "    </tr>\n",
       "  </thead>\n",
       "  <tbody>\n",
       "    <tr>\n",
       "      <th>0</th>\n",
       "      <td>Owen Gleiberman</td>\n",
       "      <td>fresh</td>\n",
       "      <td>114709</td>\n",
       "      <td>Entertainment Weekly</td>\n",
       "      <td>NaN</td>\n",
       "      <td>2011-09-07</td>\n",
       "      <td>9559</td>\n",
       "      <td>Toy story</td>\n",
       "    </tr>\n",
       "    <tr>\n",
       "      <th>1</th>\n",
       "      <td>Derek Adams</td>\n",
       "      <td>fresh</td>\n",
       "      <td>114709</td>\n",
       "      <td>Time Out</td>\n",
       "      <td>So ingenious in concept, design and execution ...</td>\n",
       "      <td>2009-10-04</td>\n",
       "      <td>9559</td>\n",
       "      <td>Toy story</td>\n",
       "    </tr>\n",
       "    <tr>\n",
       "      <th>2</th>\n",
       "      <td>Richard Corliss</td>\n",
       "      <td>fresh</td>\n",
       "      <td>114709</td>\n",
       "      <td>TIME Magazine</td>\n",
       "      <td>The year's most inventive comedy.</td>\n",
       "      <td>2008-08-31</td>\n",
       "      <td>9559</td>\n",
       "      <td>Toy story</td>\n",
       "    </tr>\n",
       "    <tr>\n",
       "      <th>3</th>\n",
       "      <td>David Ansen</td>\n",
       "      <td>fresh</td>\n",
       "      <td>114709</td>\n",
       "      <td>Newsweek</td>\n",
       "      <td>A winning animated feature that has something ...</td>\n",
       "      <td>2008-08-18</td>\n",
       "      <td>9559</td>\n",
       "      <td>Toy story</td>\n",
       "    </tr>\n",
       "    <tr>\n",
       "      <th>4</th>\n",
       "      <td>Leonard Klady</td>\n",
       "      <td>fresh</td>\n",
       "      <td>114709</td>\n",
       "      <td>Variety</td>\n",
       "      <td>The film sports a provocative and appealing st...</td>\n",
       "      <td>2008-06-09</td>\n",
       "      <td>9559</td>\n",
       "      <td>Toy story</td>\n",
       "    </tr>\n",
       "  </tbody>\n",
       "</table>\n",
       "</div>"
      ],
      "text/plain": [
       "            critic  fresh    imdb           publication  \\\n",
       "0  Owen Gleiberman  fresh  114709  Entertainment Weekly   \n",
       "1      Derek Adams  fresh  114709              Time Out   \n",
       "2  Richard Corliss  fresh  114709         TIME Magazine   \n",
       "3      David Ansen  fresh  114709              Newsweek   \n",
       "4    Leonard Klady  fresh  114709               Variety   \n",
       "\n",
       "                                               quote review_date  rtid  \\\n",
       "0                                                NaN  2011-09-07  9559   \n",
       "1  So ingenious in concept, design and execution ...  2009-10-04  9559   \n",
       "2                  The year's most inventive comedy.  2008-08-31  9559   \n",
       "3  A winning animated feature that has something ...  2008-08-18  9559   \n",
       "4  The film sports a provocative and appealing st...  2008-06-09  9559   \n",
       "\n",
       "       title  \n",
       "0  Toy story  \n",
       "1  Toy story  \n",
       "2  Toy story  \n",
       "3  Toy story  \n",
       "4  Toy story  "
      ]
     },
     "execution_count": 2,
     "metadata": {},
     "output_type": "execute_result"
    }
   ],
   "source": [
    "df = pd.read_csv('data/critics.csv')\n",
    "print(df.info())\n",
    "df.head()"
   ]
  },
  {
   "cell_type": "code",
   "execution_count": 3,
   "metadata": {},
   "outputs": [
    {
     "data": {
      "text/plain": [
       "fresh     11821\n",
       "rotten     8420\n",
       "none       7390\n",
       "Name: fresh, dtype: int64"
      ]
     },
     "execution_count": 3,
     "metadata": {},
     "output_type": "execute_result"
    }
   ],
   "source": [
    "df.fresh.value_counts()"
   ]
  },
  {
   "cell_type": "code",
   "execution_count": 4,
   "metadata": {},
   "outputs": [],
   "source": [
    "df = df[df.fresh != 'none']"
   ]
  },
  {
   "cell_type": "code",
   "execution_count": 5,
   "metadata": {},
   "outputs": [
    {
     "data": {
      "text/html": [
       "<div>\n",
       "<style scoped>\n",
       "    .dataframe tbody tr th:only-of-type {\n",
       "        vertical-align: middle;\n",
       "    }\n",
       "\n",
       "    .dataframe tbody tr th {\n",
       "        vertical-align: top;\n",
       "    }\n",
       "\n",
       "    .dataframe thead th {\n",
       "        text-align: right;\n",
       "    }\n",
       "</style>\n",
       "<table border=\"1\" class=\"dataframe\">\n",
       "  <thead>\n",
       "    <tr style=\"text-align: right;\">\n",
       "      <th></th>\n",
       "      <th>critic</th>\n",
       "      <th>freshness</th>\n",
       "      <th>imdb</th>\n",
       "      <th>publication</th>\n",
       "      <th>review_quote</th>\n",
       "      <th>review_date</th>\n",
       "      <th>rtid</th>\n",
       "      <th>movie</th>\n",
       "      <th>fresh</th>\n",
       "    </tr>\n",
       "  </thead>\n",
       "  <tbody>\n",
       "    <tr>\n",
       "      <th>27606</th>\n",
       "      <td>Ronald Holloway</td>\n",
       "      <td>fresh</td>\n",
       "      <td>86005</td>\n",
       "      <td>Variety</td>\n",
       "      <td>Measures up to the promise Ballard amply provi...</td>\n",
       "      <td>2008-07-23</td>\n",
       "      <td>12606</td>\n",
       "      <td>Never Cry Wolf</td>\n",
       "      <td>1</td>\n",
       "    </tr>\n",
       "    <tr>\n",
       "      <th>27607</th>\n",
       "      <td>NaN</td>\n",
       "      <td>fresh</td>\n",
       "      <td>86005</td>\n",
       "      <td>Time Out</td>\n",
       "      <td>For the most part very absorbing, the film suf...</td>\n",
       "      <td>2006-01-26</td>\n",
       "      <td>12606</td>\n",
       "      <td>Never Cry Wolf</td>\n",
       "      <td>1</td>\n",
       "    </tr>\n",
       "    <tr>\n",
       "      <th>27608</th>\n",
       "      <td>Vincent Canby</td>\n",
       "      <td>fresh</td>\n",
       "      <td>86005</td>\n",
       "      <td>New York Times</td>\n",
       "      <td>Perhaps the best thing about the film is that ...</td>\n",
       "      <td>2004-08-30</td>\n",
       "      <td>12606</td>\n",
       "      <td>Never Cry Wolf</td>\n",
       "      <td>1</td>\n",
       "    </tr>\n",
       "    <tr>\n",
       "      <th>27609</th>\n",
       "      <td>Dave Kehr</td>\n",
       "      <td>fresh</td>\n",
       "      <td>86005</td>\n",
       "      <td>Chicago Reader</td>\n",
       "      <td>The film is still memorable for its compassion...</td>\n",
       "      <td>2000-01-01</td>\n",
       "      <td>12606</td>\n",
       "      <td>Never Cry Wolf</td>\n",
       "      <td>1</td>\n",
       "    </tr>\n",
       "    <tr>\n",
       "      <th>27616</th>\n",
       "      <td>Don Druker</td>\n",
       "      <td>fresh</td>\n",
       "      <td>55353</td>\n",
       "      <td>Chicago Reader</td>\n",
       "      <td>It does have enough gritty insights and (for t...</td>\n",
       "      <td>2007-11-13</td>\n",
       "      <td>18541</td>\n",
       "      <td>A Raisin in the Sun</td>\n",
       "      <td>1</td>\n",
       "    </tr>\n",
       "  </tbody>\n",
       "</table>\n",
       "</div>"
      ],
      "text/plain": [
       "                critic freshness   imdb     publication  \\\n",
       "27606  Ronald Holloway     fresh  86005         Variety   \n",
       "27607              NaN     fresh  86005        Time Out   \n",
       "27608    Vincent Canby     fresh  86005  New York Times   \n",
       "27609        Dave Kehr     fresh  86005  Chicago Reader   \n",
       "27616       Don Druker     fresh  55353  Chicago Reader   \n",
       "\n",
       "                                            review_quote review_date   rtid  \\\n",
       "27606  Measures up to the promise Ballard amply provi...  2008-07-23  12606   \n",
       "27607  For the most part very absorbing, the film suf...  2006-01-26  12606   \n",
       "27608  Perhaps the best thing about the film is that ...  2004-08-30  12606   \n",
       "27609  The film is still memorable for its compassion...  2000-01-01  12606   \n",
       "27616  It does have enough gritty insights and (for t...  2007-11-13  18541   \n",
       "\n",
       "                     movie  fresh  \n",
       "27606       Never Cry Wolf      1  \n",
       "27607       Never Cry Wolf      1  \n",
       "27608       Never Cry Wolf      1  \n",
       "27609       Never Cry Wolf      1  \n",
       "27616  A Raisin in the Sun      1  "
      ]
     },
     "execution_count": 5,
     "metadata": {},
     "output_type": "execute_result"
    }
   ],
   "source": [
    "# Drop rows with missing quotes:\n",
    "df = df[~df.quote.isnull()]\n",
    "\n",
    "df.rename(columns={\n",
    "    'fresh': 'freshness',\n",
    "    'title': 'movie',\n",
    "    'quote': 'review_quote'\n",
    "}, inplace=True)\n",
    "\n",
    "df['fresh'] = (df.freshness == 'fresh').astype(int)\n",
    "df.tail()"
   ]
  },
  {
   "cell_type": "code",
   "execution_count": 6,
   "metadata": {},
   "outputs": [
    {
     "name": "stdout",
     "output_type": "stream",
     "text": [
      "Number of reviews: 15534\n",
      "Number of movies:  1921\n",
      "Number of critics: 622\n",
      "Number of publications:  65\n",
      "\n",
      "Average review freshness: 61%\n"
     ]
    }
   ],
   "source": [
    "n_reviews = len(df)\n",
    "n_movies = df.movie.unique().size\n",
    "n_critics = df.critic.unique().size\n",
    "n_pubs = df.publication.unique().size\n",
    "\n",
    "print(\"Number of reviews: {:d}\".format(n_reviews))\n",
    "print(\"Number of movies:  {:d}\".format(n_movies))\n",
    "print(\"Number of critics: {:d}\".format(n_critics))\n",
    "print(\"Number of publications:  {:d}\".format(n_pubs))\n",
    "print()\n",
    "print(\"Average review freshness: {:0.0f}%\".format(df.fresh.mean()*100))"
   ]
  },
  {
   "cell_type": "markdown",
   "metadata": {},
   "source": [
    "---\n",
    "## ROTTEN TOMATOES REVIEWS"
   ]
  },
  {
   "cell_type": "code",
   "execution_count": 7,
   "metadata": {},
   "outputs": [],
   "source": [
    "# save features and target as acceptable datatypes:\n",
    "X = df.review_quote.values.astype('str')\n",
    "y = df.fresh.values.astype('int')"
   ]
  },
  {
   "cell_type": "markdown",
   "metadata": {},
   "source": [
    "#### Vectorize First"
   ]
  },
  {
   "cell_type": "code",
   "execution_count": 8,
   "metadata": {},
   "outputs": [],
   "source": [
    "def vectorize_split_classify(X, y, tfidf=False):\n",
    "    if tfidf:\n",
    "        vectorizer = TfidfVectorizer()\n",
    "        print('TFIDF VECTORIZER')\n",
    "    else:\n",
    "        vectorizer = CountVectorizer()\n",
    "        print('COUNT VECTORIZER')\n",
    "        \n",
    "    X = vectorizer.fit_transform(X)\n",
    "    X_train, X_test, y_train, y_test = train_test_split(X, y, random_state=32)\n",
    "\n",
    "    clf = MultinomialNB().fit(X_train, y_train)\n",
    "\n",
    "    print(\"\\tAccuracy on Training Data: {:0.2f}%\".format(clf.score(X_train, y_train)*100))\n",
    "    print(\"\\t    Accuracy on Test Data: {:0.2f}%\".format(clf.score(X_test, y_test)*100))"
   ]
  },
  {
   "cell_type": "code",
   "execution_count": 9,
   "metadata": {},
   "outputs": [
    {
     "name": "stdout",
     "output_type": "stream",
     "text": [
      "COUNT VECTORIZER\n",
      "\tAccuracy on Training Data: 92.03%\n",
      "\t    Accuracy on Test Data: 76.67%\n",
      "\n",
      "TFIDF VECTORIZER\n",
      "\tAccuracy on Training Data: 80.67%\n",
      "\t    Accuracy on Test Data: 69.10%\n"
     ]
    }
   ],
   "source": [
    "vectorize_split_classify(X, y, tfidf=False)\n",
    "print()\n",
    "vectorize_split_classify(X, y, tfidf=True)"
   ]
  },
  {
   "cell_type": "markdown",
   "metadata": {},
   "source": [
    "#### Train/Test Split First"
   ]
  },
  {
   "cell_type": "code",
   "execution_count": 10,
   "metadata": {},
   "outputs": [],
   "source": [
    "def split_vectorize_classify(X, y, tfidf=False):\n",
    "    X_train, X_test, y_train, y_test = train_test_split(X, y, random_state=32)\n",
    "    \n",
    "    if tfidf:\n",
    "        vectorizer = TfidfVectorizer()\n",
    "        X_train = vectorizer.fit_transform(X_train)\n",
    "        X_test = vectorizer.transform(X_test)\n",
    "        print('TFIDF VECTORIZER')\n",
    "    else:\n",
    "        vectorizer = CountVectorizer()\n",
    "        X_train = vectorizer.fit_transform(X_train)\n",
    "        X_test = vectorizer.transform(X_test)\n",
    "        print('COUNT VECTORIZER')\n",
    "        \n",
    "    clf = MultinomialNB().fit(X_train, y_train)\n",
    "\n",
    "    print(\"\\tAccuracy on Training Data: {:0.2f}%\".format(clf.score(X_train, y_train)*100))\n",
    "    print(\"\\t    Accuracy on Test Data: {:0.2f}%\".format(clf.score(X_test, y_test)*100))"
   ]
  },
  {
   "cell_type": "code",
   "execution_count": 11,
   "metadata": {},
   "outputs": [
    {
     "name": "stdout",
     "output_type": "stream",
     "text": [
      "COUNT VECTORIZER\n",
      "\tAccuracy on Training Data: 92.19%\n",
      "\t    Accuracy on Test Data: 76.80%\n",
      "\n",
      "TFIDF VECTORIZER\n",
      "\tAccuracy on Training Data: 81.89%\n",
      "\t    Accuracy on Test Data: 69.31%\n"
     ]
    }
   ],
   "source": [
    "split_vectorize_classify(X, y, tfidf=False)\n",
    "print()\n",
    "split_vectorize_classify(X, y, tfidf=True)"
   ]
  },
  {
   "cell_type": "markdown",
   "metadata": {},
   "source": [
    "### Hyper-Parameter Tuning"
   ]
  },
  {
   "cell_type": "code",
   "execution_count": 12,
   "metadata": {},
   "outputs": [
    {
     "name": "stdout",
     "output_type": "stream",
     "text": [
      "\n",
      "COUNT VECTORIZER\n",
      "Best Score: 76.77%\n",
      "\n",
      "clf__alpha\n",
      "\tsearched=(0.1, 1, 5, 10)\n",
      "\tbest=1\n",
      "\n",
      "clf__fit_prior\n",
      "\tsearched=(True, False)\n",
      "\tbest=False\n",
      "\n",
      "vect__max_df\n",
      "\tsearched=(0.25, 0.5, 0.75, 1.0)\n",
      "\tbest=0.5\n",
      "\n",
      "vect__min_df\n",
      "\tsearched=(1e-05, 0.0001, 0.001, 0.01, 0.1)\n",
      "\tbest=1e-05\n",
      "\n",
      "Accuracy on Training Data: 92.11%\n",
      "    Accuracy on Test Data: 77.03%\n",
      "_________________________________________________________________\n",
      "\n",
      "TFIDF VECTORIZER\n",
      "Best Score: 76.48%\n",
      "\n",
      "clf__alpha\n",
      "\tsearched=(0.1, 1, 5, 10)\n",
      "\tbest=1\n",
      "\n",
      "clf__fit_prior\n",
      "\tsearched=(True, False)\n",
      "\tbest=False\n",
      "\n",
      "vect__max_df\n",
      "\tsearched=(0.25, 0.5, 0.75, 1.0)\n",
      "\tbest=0.25\n",
      "\n",
      "vect__min_df\n",
      "\tsearched=(1e-05, 0.0001, 0.001, 0.01, 0.1)\n",
      "\tbest=1e-05\n",
      "\n",
      "Accuracy on Training Data: 91.43%\n",
      "    Accuracy on Test Data: 76.62%\n",
      "\n"
     ]
    }
   ],
   "source": [
    "import txt_clfy\n",
    "import hide_output\n",
    "\n",
    "parameters = {\n",
    "    'vect__min_df': (1e-5, 1e-4, 1e-3, 1e-2, 1e-1),\n",
    "    'vect__max_df': (0.25, 0.5, 0.75, 1.0),\n",
    "    'clf__alpha': (0.1, 1, 5, 10),\n",
    "    'clf__fit_prior': (True, False)\n",
    "}\n",
    "\n",
    "print()\n",
    "clf_count, vectorizer_count, confusion_count = txt_clfy.split_vectorize_classify(X, y, parameters)\n",
    "print('_'*65)\n",
    "print()\n",
    "clf_tfidf, vectorizer_tfidf, confusion_tfidf = txt_clfy.split_vectorize_classify(X, y, parameters, tfidf=True)\n",
    "print()"
   ]
  },
  {
   "cell_type": "markdown",
   "metadata": {},
   "source": [
    "### Hyper-Parameter Tuning with a Custom Metric"
   ]
  },
  {
   "cell_type": "code",
   "execution_count": 13,
   "metadata": {},
   "outputs": [
    {
     "name": "stdout",
     "output_type": "stream",
     "text": [
      "\n",
      "COUNT VECTORIZER\n",
      "Best min_df: 0.0001\n",
      "Best max_df: 0.25\n",
      "Best alpha: 5\n",
      "Best fit_prior: False\n",
      "\n",
      "Accuracy on Training Data: 86.16%\n",
      "    Accuracy on Test Data: 76.54%\n",
      "_________________________________________________________________\n",
      "\n",
      "TFIDF VECTORIZER\n",
      "Best min_df: 0.0001\n",
      "Best max_df: 0.5\n",
      "Best alpha: 0.1\n",
      "Best fit_prior: True\n",
      "\n",
      "Accuracy on Training Data: 91.68%\n",
      "    Accuracy on Test Data: 76.03%\n",
      "\n"
     ]
    }
   ],
   "source": [
    "print()\n",
    "clf_count_ml, vectorizer_count_ml, confusion_count_ml = txt_clfy.split_vect_clfy_maxlikelihood(X, y, parameters)\n",
    "print('_'*65)\n",
    "print()\n",
    "clf_tfidf_ml, vectorizer_tfidf_ml, confusion_tfidf_ml = txt_clfy.split_vect_clfy_maxlikelihood(X, y, parameters, tfidf=True)\n",
    "print()"
   ]
  },
  {
   "cell_type": "code",
   "execution_count": 14,
   "metadata": {},
   "outputs": [],
   "source": [
    "clf = clf_count_ml\n",
    "vectorizer = vectorizer_count_ml\n",
    "confusion = confusion_count_ml"
   ]
  },
  {
   "cell_type": "code",
   "execution_count": 15,
   "metadata": {},
   "outputs": [
    {
     "data": {
      "image/png": "[encoded data removed]",
      "text/plain": [
       "<Figure size 432x288 with 1 Axes>"
      ]
     },
     "metadata": {},
     "output_type": "display_data"
    }
   ],
   "source": [
    "sns.countplot(df.freshness)\n",
    "plt.xlabel('');"
   ]
  },
  {
   "cell_type": "code",
   "execution_count": 16,
   "metadata": {},
   "outputs": [
    {
     "data": {
      "image/png": "[encoded data removed]",
      "text/plain": [
       "<Figure size 432x288 with 2 Axes>"
      ]
     },
     "metadata": {},
     "output_type": "display_data"
    }
   ],
   "source": [
    "labels = np.array([['true rotten','false fresh'], ['false rotten','true fresh']])\n",
    "sns.heatmap(confusion, annot=labels, fmt='');"
   ]
  },
  {
   "cell_type": "markdown",
   "metadata": {},
   "source": [
    "### Predictive Words (Features)"
   ]
  },
  {
   "cell_type": "code",
   "execution_count": 17,
   "metadata": {},
   "outputs": [
    {
     "name": "stdout",
     "output_type": "stream",
     "text": [
      "Fresh words\t\tP(fresh|word)\n",
      "            touching \t0.86\n",
      "             delight \t0.86\n",
      "        entertaining \t0.86\n",
      "         masterpiece \t0.85\n",
      "             perfect \t0.84\n",
      "          delightful \t0.83\n",
      "            powerful \t0.82\n",
      "          remarkable \t0.82\n",
      "               smart \t0.82\n",
      "              finest \t0.82\n",
      "\n",
      "Rotten words\t\tP(fresh|word)\n",
      "      disappointment \t0.16\n",
      "            tiresome \t0.16\n",
      "               video \t0.16\n",
      "             unfunny \t0.15\n",
      "             problem \t0.15\n",
      "                dull \t0.14\n",
      "               bland \t0.14\n",
      "          uninspired \t0.14\n",
      "       unfortunately \t0.12\n",
      "                lame \t0.10\n"
     ]
    }
   ],
   "source": [
    "words = np.array(vectorizer.get_feature_names())\n",
    "\n",
    "# Save identity matrix where each row represents exactly one feature (word):\n",
    "x = np.identity(len(words))\n",
    "\n",
    "# Use the trained model to classify individual words as reviews and return the probability:\n",
    "probability = clf.predict_log_proba(x)[:, 0]\n",
    "\n",
    "# Sort (ascending) the matrix rows by probability and return the corresponding indices:\n",
    "indices = np.argsort(probability)\n",
    "\n",
    "# Filter the words list to find the ten most likely to indicate fresh or rotten:\n",
    "fresh_words = words[indices[:10]]\n",
    "rotten_words = words[indices[-10:]]\n",
    "\n",
    "fresh_prob = probability[indices[:10]]\n",
    "rotten_prob = probability[indices[-10:]]\n",
    "\n",
    "# Display 10 most fresh and rotten words with the probability that the word is fresh:\n",
    "print('Fresh words\\t\\tP(fresh|word)')\n",
    "for word, p in zip(fresh_words, fresh_prob):\n",
    "    print('{:>20}'.format(word), '\\t{:0.2f}'.format(1 - np.exp(p)))\n",
    "\n",
    "print()\n",
    "\n",
    "print('Rotten words\\t\\tP(fresh|word)')\n",
    "for word, p in zip(rotten_words, rotten_prob):\n",
    "    print('{:>20}'.format(word), '\\t{:0.2f}'.format(1 - np.exp(p)))"
   ]
  },
  {
   "cell_type": "markdown",
   "metadata": {},
   "source": [
    "### Incorrectly Classified Reviews"
   ]
  },
  {
   "cell_type": "code",
   "execution_count": 18,
   "metadata": {},
   "outputs": [
    {
     "name": "stdout",
     "output_type": "stream",
     "text": [
      "Top 5 Incorrectly Classified Rotten Reviews\n",
      "-------------------------------------------\n",
      "Part comedy, part family drama, part romance, part special-effects mystery-adventure, and not entirely satisfying on any of these levels. (Practical Magic)\n",
      "\n",
      "I'll let you in on a little secret that film critics have known for years. A major studio production, released in August with top-list stars, is almost certain to be a gobbler. (The Time Traveler's Wife)\n",
      "\n",
      "The movie plays like the kind of line a rich older guy would lay on a teenage model, suppressing his own intelligence and irony in order to spread out before her the wonderful world he would like to give her as a gift. (Stealing Beauty)\n",
      "\n",
      "An ambitious, serious but not particularly stimulating musical feature that unconvincingly attempts to graft warm and cuddly family-film motifs onto turbulent aspects of modern history and mythology. (Anastasia)\n",
      "\n",
      "It survives today only as an unusually pure example of a typical 50s art-film strategy: the attempt to make the most modern and most popular of art forms acceptable to the intelligentsia by forcing it into an arcane, antique mold. (Det sjunde inseglet)\n",
      "\n",
      "Top 5 Incorrectly Classified Fresh Reviews\n",
      "------------------------------------------\n",
      "I saw this at a festival and hated it, then sat through it again a year later and decided it wasn't so bad, aside from the god-awful ending. (Trust the Man)\n",
      "\n",
      "This one is neither crude clowning nor crude prejudice, but a literate and knowingly directed satire which lands many a shrewd crack about phony Five Year Plans, collective farms, Communist jargon and pseudo-scientific gab. (Ninotchka)\n",
      "\n",
      "There's too much talent and too strong a story to mess it up. There was potential for more here, but this incarnation is nothing to be ashamed of, and some of the actors answer the bell. (Charlotte's Web)\n",
      "\n",
      "Weighed down by a dull setup featuring Ralph 'Karate Kid' Macchio, the movie gets a much-needed charge from Pesci, a bundle of bandy-legged impudence as Macchio's lawyer cousin, Vincent Gambini. (My Cousin Vinny)\n",
      "\n",
      "The gangland plot is flimsy (bad guy Peter Greene wears too much eyeliner), and the jokes are erratic, but it's a far better showcase for Carrey's comic-from-Uranus talent than Ace Ventura. (The Mask)\n",
      "\n"
     ]
    }
   ],
   "source": [
    "# Save probability for all observations:\n",
    "probability = clf.predict_proba(vectorizer.transform(X))[:, 0]\n",
    "\n",
    "# Filter by true class, sort and save the index for top and bottom values:\n",
    "wrong_rotten = np.argsort(probability[y == 0])[:5]\n",
    "wrong_fresh = np.argsort(probability[y == 1])[-5:]\n",
    "\n",
    "print('Top 5 Incorrectly Classified Rotten Reviews')\n",
    "print('-------------------------------------------')\n",
    "for row in wrong_rotten:\n",
    "    print(df[y == 0].review_quote.iloc[row], '({})'.format(df[y == 0].movie.iloc[row]))\n",
    "    print()\n",
    "\n",
    "print('Top 5 Incorrectly Classified Fresh Reviews')\n",
    "print('------------------------------------------')\n",
    "for row in wrong_fresh:\n",
    "    print(df[y == 1].review_quote.iloc[row], '({})'.format(df[y == 1].movie.iloc[row]))\n",
    "    print()"
   ]
  },
  {
   "cell_type": "markdown",
   "metadata": {},
   "source": [
    "### Predict Freshness of New Reviews"
   ]
  },
  {
   "cell_type": "code",
   "execution_count": 19,
   "metadata": {},
   "outputs": [
    {
     "name": "stdout",
     "output_type": "stream",
     "text": [
      "\n",
      "\"This movie is not remarkable in any way.\"\n",
      "Prediction: 89.53% likely FRESH\n",
      "\n",
      "\"The movie is remarkable in every way!\"\n",
      "Prediction: 89.09% likely FRESH\n",
      "\n",
      "\"Airplane! never gets old. My kid laughed throughout the entire thirty-something year old classic.\"\n",
      "Prediction: 87.84% likely FRESH\n",
      "\n",
      "\"The only hours I've ever wished to have back were the two I spent watching Inception.\"\n",
      "Prediction: 77.56% likely ROTTEN\n",
      "\n"
     ]
    }
   ],
   "source": [
    "reviews = [\n",
    "    [\"This movie is not remarkable in any way.\"],\n",
    "    [\"The movie is remarkable in every way!\"],\n",
    "    [\"Airplane! never gets old. My kid laughed throughout the entire thirty-something year old classic.\"],\n",
    "    [\"The only hours I've ever wished to have back were the two I spent watching Inception.\"]\n",
    "]\n",
    "print()\n",
    "for review in reviews:\n",
    "    transformed = vectorizer.transform(review)\n",
    "    print('\"{}\"'.format(review[0]))\n",
    "    if clf.predict(transformed) == 1:\n",
    "        print('Prediction: {:0.2f}% likely FRESH\\n'.format(clf.predict_proba(transformed)[0][1]*100))\n",
    "    else:\n",
    "        print('Prediction: {:0.2f}% likely ROTTEN\\n'.format(clf.predict_proba(transformed)[0][0]*100))"
   ]
  },
  {
   "cell_type": "markdown",
   "metadata": {},
   "source": [
    "---\n",
    "## N-GRAMS"
   ]
  },
  {
   "cell_type": "code",
   "execution_count": 20,
   "metadata": {},
   "outputs": [
    {
     "name": "stdout",
     "output_type": "stream",
     "text": [
      "Minimum 1 word, Maximum 2 words\n",
      "\n",
      "COUNT VECTORIZER\n",
      "Best min_df: 0.001\n",
      "Best max_df: 0.25\n",
      "Best alpha: 10\n",
      "Best fit_prior: True\n",
      "\n",
      "Accuracy on Training Data: 79.02%\n",
      "    Accuracy on Test Data: 72.35%\n",
      "_________________________________________________________________\n",
      "\n",
      "TFIDF VECTORIZER\n",
      "Best min_df: 1e-05\n",
      "Best max_df: 0.5\n",
      "Best alpha: 0.1\n",
      "Best fit_prior: False\n",
      "\n",
      "Accuracy on Training Data: 99.95%\n",
      "    Accuracy on Test Data: 77.27%\n",
      "\n"
     ]
    }
   ],
   "source": [
    "print('Minimum 1 word, Maximum 2 words')\n",
    "print()\n",
    "clf_count_1_2_ml, vectorizer_count_1_2_ml, confusion_count_1_2_ml = txt_clfy.split_vect_clfy_maxlikelihood(X, y, parameters, ngram_range=(1, 2))\n",
    "print('_'*65)\n",
    "print()\n",
    "clf_tfidf_1_2_ml, vectorizer_tfidf_1_2_ml, confusion_tfidf_1_2_ml = txt_clfy.split_vect_clfy_maxlikelihood(X, y, parameters, tfidf=True, ngram_range=(1, 2))\n",
    "print()"
   ]
  },
  {
   "cell_type": "code",
   "execution_count": 21,
   "metadata": {},
   "outputs": [],
   "source": [
    "clf = clf_count_1_2_ml\n",
    "vectorizer = vectorizer_count_1_2_ml\n",
    "confusion = confusion_count_1_2_ml"
   ]
  },
  {
   "cell_type": "code",
   "execution_count": 22,
   "metadata": {},
   "outputs": [
    {
     "data": {
      "image/png": "[encoded data removed]",
      "text/plain": [
       "<Figure size 432x288 with 2 Axes>"
      ]
     },
     "metadata": {},
     "output_type": "display_data"
    }
   ],
   "source": [
    "sns.heatmap(confusion, annot=labels, fmt='');"
   ]
  },
  {
   "cell_type": "markdown",
   "metadata": {},
   "source": [
    "### Predictive Words/Phrases (Features)"
   ]
  },
  {
   "cell_type": "code",
   "execution_count": 23,
   "metadata": {},
   "outputs": [
    {
     "name": "stdout",
     "output_type": "stream",
     "text": [
      "Fresh  words/phrases\tP(fresh|word/phrase)\n",
      "        entertaining \t0.89\n",
      "            the best \t0.86\n",
      "             perfect \t0.85\n",
      "            touching \t0.85\n",
      "         masterpiece \t0.85\n",
      "             delight \t0.84\n",
      "              one of \t0.84\n",
      "               smart \t0.84\n",
      "            powerful \t0.84\n",
      "         performance \t0.83\n",
      "\n",
      "Rotten words/phrases\tP(fresh|word/phrase)\n",
      "      disappointment \t0.31\n",
      "               fails \t0.30\n",
      "             unfunny \t0.29\n",
      "          uninspired \t0.28\n",
      "               video \t0.27\n",
      "               bland \t0.26\n",
      "             problem \t0.26\n",
      "                dull \t0.25\n",
      "       unfortunately \t0.23\n",
      "                lame \t0.23\n"
     ]
    }
   ],
   "source": [
    "words = np.array(vectorizer.get_feature_names())\n",
    "\n",
    "# Save identity matrix where each row represents exactly one feature (word):\n",
    "x = np.identity(len(words))\n",
    "\n",
    "# Use the trained model to classify individual words as reviews and return the probability:\n",
    "probability = clf.predict_log_proba(x)[:, 0]\n",
    "\n",
    "# Sort (ascending) the matrix rows by probability and return the corresponding indices:\n",
    "indices = np.argsort(probability)\n",
    "\n",
    "# Filter the words list to find the ten most likely to indicate fresh or rotten:\n",
    "fresh_words = words[indices[:10]]\n",
    "rotten_words = words[indices[-10:]]\n",
    "\n",
    "fresh_prob = probability[indices[:10]]\n",
    "rotten_prob = probability[indices[-10:]]\n",
    "\n",
    "# Display 10 most fresh and rotten words with the probability that the word is fresh:\n",
    "print('Fresh  words/phrases\\tP(fresh|word/phrase)')\n",
    "for word, p in zip(fresh_words, fresh_prob):\n",
    "    print('{:>20}'.format(word), '\\t{:0.2f}'.format(1 - np.exp(p)))\n",
    "\n",
    "print()\n",
    "\n",
    "print('Rotten words/phrases\\tP(fresh|word/phrase)')\n",
    "for word, p in zip(rotten_words, rotten_prob):\n",
    "    print('{:>20}'.format(word), '\\t{:0.2f}'.format(1 - np.exp(p)))"
   ]
  },
  {
   "cell_type": "markdown",
   "metadata": {},
   "source": [
    "### Incorrectly Classified Reviews"
   ]
  },
  {
   "cell_type": "code",
   "execution_count": 24,
   "metadata": {},
   "outputs": [
    {
     "name": "stdout",
     "output_type": "stream",
     "text": [
      "Top 5 Incorrectly Classified Rotten Reviews\n",
      "-------------------------------------------\n",
      "It is sometimes funny in a puzzling kind of way, it is generally overwrought in an irritating kind of way, and once in a while it is inappropriately touching. (Carrie)\n",
      "\n",
      "Walken is one of the few undeniably charismatic male villains of recent years; he can generate a snakelike charm that makes his worst characters the most memorable, and here he operates on pure style. (King of New York)\n",
      "\n",
      "With its feints at horror and pathos, the third Star Wars film is the most Disney-esque in its emotional outline, yet that outline is buried beneath an obnoxiously hyped-up pace that reduces the emotions to rubble. (Star Wars: Episode VI - Return of the Jedi)\n",
      "\n",
      "Benefits from a lively lead performance by the miscast Denzel Washington but doesn't come within light years of the book, one of the greatest American autobiographies. (Malcolm X)\n",
      "\n",
      "The best shot in this film is the first one. Not a good sign. (I Know What You Did Last Summer)\n",
      "\n",
      "Top 5 Incorrectly Classified Fresh Reviews\n",
      "------------------------------------------\n",
      "Some of the gags don't work, but fewer than in any previous Brooks film that I've seen, and when the jokes are meant to be bad, they are riotously poor. What more can one ask of Mel Brooks? (Young Frankenstein)\n",
      "\n",
      "Might it be a serious attempt to right some unretrievable wrong via gallows humor which avoids the polemics? This seems to be the course taken; the attempt at least can be respected in theory. (Little Big Man)\n",
      "\n",
      "The film doesn't seem to have much of a focus. But it doesn't seem to want one, either. (Better Off Dead...)\n",
      "\n",
      "Like every element in this picture, the actors look right; they seem to emerge from the past, instead of being pasted on to it, as so many characters in historical movies seem to be. (Chariots of Fire)\n",
      "\n",
      "There's too much talent and too strong a story to mess it up. There was potential for more here, but this incarnation is nothing to be ashamed of, and some of the actors answer the bell. (Charlotte's Web)\n",
      "\n"
     ]
    }
   ],
   "source": [
    "# Save probability for all observations:\n",
    "probability = clf.predict_proba(vectorizer.transform(X))[:, 0]\n",
    "\n",
    "# Filter by true class, sort and save the index for top and bottom values:\n",
    "wrong_rotten = np.argsort(probability[y == 0])[:5]\n",
    "wrong_fresh = np.argsort(probability[y == 1])[-5:]\n",
    "\n",
    "print('Top 5 Incorrectly Classified Rotten Reviews')\n",
    "print('-------------------------------------------')\n",
    "for row in wrong_rotten:\n",
    "    print(df[y == 0].review_quote.iloc[row], '({})'.format(df[y == 0].movie.iloc[row]))\n",
    "    print()\n",
    "\n",
    "print('Top 5 Incorrectly Classified Fresh Reviews')\n",
    "print('------------------------------------------')\n",
    "for row in wrong_fresh:\n",
    "    print(df[y == 1].review_quote.iloc[row], '({})'.format(df[y == 1].movie.iloc[row]))\n",
    "    print()"
   ]
  },
  {
   "cell_type": "markdown",
   "metadata": {},
   "source": [
    "### Predict Freshness of New Reviews"
   ]
  },
  {
   "cell_type": "code",
   "execution_count": 25,
   "metadata": {},
   "outputs": [
    {
     "name": "stdout",
     "output_type": "stream",
     "text": [
      "\n",
      "\"This movie is not remarkable in any way.\"\n",
      "Prediction: 77.38% likely FRESH\n",
      "\n",
      "\"The movie is remarkable in every way!\"\n",
      "Prediction: 76.83% likely FRESH\n",
      "\n",
      "\"Airplane! never gets old. My kid laughed throughout the entire thirty-something year old classic.\"\n",
      "Prediction: 70.05% likely FRESH\n",
      "\n",
      "\"The only hours I've ever wished to have back were the two I spent watching Inception.\"\n",
      "Prediction: 89.54% likely ROTTEN\n",
      "\n"
     ]
    }
   ],
   "source": [
    "reviews = [\n",
    "    [\"This movie is not remarkable in any way.\"],\n",
    "    [\"The movie is remarkable in every way!\"],\n",
    "    [\"Airplane! never gets old. My kid laughed throughout the entire thirty-something year old classic.\"],\n",
    "    [\"The only hours I've ever wished to have back were the two I spent watching Inception.\"]\n",
    "]\n",
    "print()\n",
    "for review in reviews:\n",
    "    transformed = vectorizer.transform(review)\n",
    "    print('\"{}\"'.format(review[0]))\n",
    "    if clf.predict(transformed) == 1:\n",
    "        print('Prediction: {:0.2f}% likely FRESH\\n'.format(clf.predict_proba(transformed)[0][1]*100))\n",
    "    else:\n",
    "        print('Prediction: {:0.2f}% likely ROTTEN\\n'.format(clf.predict_proba(transformed)[0][0]*100))"
   ]
  }
 ],
 "metadata": {
  "kernelspec": {
   "display_name": "Python 3",
   "language": "python",
   "name": "python3"
  },
  "language_info": {
   "codemirror_mode": {
    "name": "ipython",
    "version": 3
   },
   "file_extension": ".py",
   "mimetype": "text/x-python",
   "name": "python",
   "nbconvert_exporter": "python",
   "pygments_lexer": "ipython3",
   "version": "3.6.4"
  }
 },
 "nbformat": 4,
 "nbformat_minor": 1
}
