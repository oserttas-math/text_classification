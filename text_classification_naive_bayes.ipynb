{
 "cells": [
  {
   "cell_type": "markdown",
   "metadata": {},
   "source": [
    "# Text Classification with Naive Bayes\n",
    "From [Wikipedia](https://en.wikipedia.org/wiki/Natural_language_processing#Rule-based_vs._statistical_NLP):\n",
    ">In the early days, many language-processing systems were designed by hand-coding a set of rules, e.g. by writing grammars or devising heuristic rules for stemming. However, this is rarely robust to natural language variation.\n",
    "<br><br>\n",
    ">The machine-learning paradigm calls instead for using statistical inference to automatically learn such rules through the analysis of large corpora of typical real-world examples (**a corpus** (plural, \"corpora\") **is a set of documents, possibly with human or computer annotations**).\n",
    "<br><br>\n",
    ">Many different classes of machine-learning algorithms have been applied to natural-language-processing tasks. These algorithms take as input a large set of \"features\" that are generated from the input data. Some of the earliest-used algorithms, such as decision trees, produced systems of hard if-then rules similar to the systems of hand-written rules that were then common. Increasingly, however, research has focused on statistical models, which make soft, probabilistic decisions based on attaching real-valued weights to each input feature. Such models have the advantage that they can express the relative certainty of many different possible answers rather than only one, producing more reliable results when such a model is included as a component of a larger system.\n",
    "<br><br>\n",
    ">Systems based on machine-learning algorithms have many advantages over hand-produced rules:\n",
    "<br><br>\n",
    ">* The learning procedures used during machine learning automatically focus on the most common cases, whereas when writing rules by hand it is often not at all obvious where the effort should be directed.\n",
    "<br><br>\n",
    ">* Automatic learning procedures can make use of statistical-inference algorithms to produce models that are robust to unfamiliar input (e.g. containing words or structures that have not been seen before) and to erroneous input (e.g. with misspelled words or words accidentally omitted). Generally, handling such input gracefully with hand-written rules—or, more generally, creating systems of hand-written rules that make soft decisions—is extremely difficult, error-prone and time-consuming.\n",
    "<br><br>\n",
    ">* Systems based on automatically learning the rules can be made more accurate simply by supplying more input data. However, systems based on hand-written rules can only be made more accurate by increasing the complexity of the rules, which is a much more difficult task. In particular, there is a limit to the complexity of systems based on hand-crafted rules, beyond which the systems become more and more unmanageable. However, creating more data to input to machine-learning systems simply requires a corresponding increase in the number of man-hours worked, generally without significant increases in the complexity of the annotation process.\n",
    "\n",
    "<br><br>\n",
    "Also from [Wikipedia](https://en.wikipedia.org/wiki/Rotten_Tomatoes):\n",
    ">**Rotten Tomatoes** is an American review-aggregation website for film and television.\n",
    "<br><br>\n",
    ">The website keeps track of all of the reviews counted for each film and the percentage of positive reviews is calculated. Major, recently released films can attract up to 300 reviews. If the positive reviews make up 60% or more, the film is considered \"fresh\", in that a supermajority of the reviewers approve of the film. If the positive reviews are less than 60%, the film is considered \"rotten\". With each review, a short excerpt of the review is quoted that also serves a hyperlink to the complete review essay for anyone interested to read the critic's full thoughts on the subject.\n",
    "\n",
    "<br><br>\n",
    "And this from [this article](https://www.huffingtonpost.com/entry/how-can-i-become-a-top-critic-on-rotten-tomatoes_us_59ee3a6fe4b036b5fdb9e5e9):\n",
    ">To become a Top Critic, you first have to be a professional film critic at an outlet invited to join RT. Then, you have to establish a history of several years working at prominent outlets with significant readership/viewership, and be considered by the public, peers, and (especially) RT to be influential and providing high quality film reviews. In other words, be a well known critic who writes impressive reviews at a well-known outlet for a long period of time.\n",
    "<br>\n",
    "\n",
    "---\n",
    "The dataset explored below includes reviews from all 'Top Critics' for each movie in the Rotten Tomatoes DVD & Streaming movies database."
   ]
  },
  {
   "cell_type": "code",
   "execution_count": 1,
   "metadata": {},
   "outputs": [],
   "source": [
    "import warnings\n",
    "warnings.filterwarnings('ignore')\n",
    "\n",
    "import pandas as pd\n",
    "import numpy as np\n",
    "import matplotlib.pyplot as plt\n",
    "import seaborn as sns\n",
    "\n",
    "from sklearn.feature_extraction.text import CountVectorizer\n",
    "from sklearn.feature_extraction.text import TfidfTransformer\n",
    "from sklearn.feature_extraction.text import TfidfVectorizer\n",
    "from sklearn.naive_bayes import MultinomialNB\n",
    "from sklearn.model_selection import train_test_split\n",
    "from sklearn.model_selection import KFold\n",
    "from sklearn.pipeline import Pipeline\n",
    "from sklearn.model_selection import GridSearchCV\n",
    "from sklearn.metrics import confusion_matrix\n",
    "\n",
    "%matplotlib inline"
   ]
  },
  {
   "cell_type": "code",
   "execution_count": 2,
   "metadata": {},
   "outputs": [
    {
     "name": "stdout",
     "output_type": "stream",
     "text": [
      "<class 'pandas.core.frame.DataFrame'>\n",
      "RangeIndex: 144595 entries, 0 to 144594\n",
      "Data columns (total 10 columns):\n",
      "movie            144595 non-null object\n",
      "total_reviews    144595 non-null int64\n",
      "num_fresh        144595 non-null int64\n",
      "num_rotten       144595 non-null int64\n",
      "tomatometer      144595 non-null float64\n",
      "top_critic       144595 non-null object\n",
      "source           144595 non-null object\n",
      "review_quote     144595 non-null object\n",
      "freshness        144595 non-null object\n",
      "review_date      144595 non-null object\n",
      "dtypes: float64(1), int64(3), object(6)\n",
      "memory usage: 11.0+ MB\n",
      "None\n"
     ]
    },
    {
     "data": {
      "text/html": [
       "<div>\n",
       "<style scoped>\n",
       "    .dataframe tbody tr th:only-of-type {\n",
       "        vertical-align: middle;\n",
       "    }\n",
       "\n",
       "    .dataframe tbody tr th {\n",
       "        vertical-align: top;\n",
       "    }\n",
       "\n",
       "    .dataframe thead th {\n",
       "        text-align: right;\n",
       "    }\n",
       "</style>\n",
       "<table border=\"1\" class=\"dataframe\">\n",
       "  <thead>\n",
       "    <tr style=\"text-align: right;\">\n",
       "      <th></th>\n",
       "      <th>movie</th>\n",
       "      <th>total_reviews</th>\n",
       "      <th>num_fresh</th>\n",
       "      <th>num_rotten</th>\n",
       "      <th>tomatometer</th>\n",
       "      <th>top_critic</th>\n",
       "      <th>source</th>\n",
       "      <th>review_quote</th>\n",
       "      <th>freshness</th>\n",
       "      <th>review_date</th>\n",
       "    </tr>\n",
       "  </thead>\n",
       "  <tbody>\n",
       "    <tr>\n",
       "      <th>0</th>\n",
       "      <td>Equalizer 2</td>\n",
       "      <td>180</td>\n",
       "      <td>91</td>\n",
       "      <td>89</td>\n",
       "      <td>0.505556</td>\n",
       "      <td>Oliver Jones</td>\n",
       "      <td>Observer</td>\n",
       "      <td>Washington is a pleasure to watch on the scre...</td>\n",
       "      <td>fresh</td>\n",
       "      <td>August 28, 2018</td>\n",
       "    </tr>\n",
       "    <tr>\n",
       "      <th>1</th>\n",
       "      <td>Equalizer 2</td>\n",
       "      <td>180</td>\n",
       "      <td>91</td>\n",
       "      <td>89</td>\n",
       "      <td>0.505556</td>\n",
       "      <td>Michael Gingold</td>\n",
       "      <td>Time Out</td>\n",
       "      <td>Once it's over, you won't necessarily be itch...</td>\n",
       "      <td>rotten</td>\n",
       "      <td>August 10, 2018</td>\n",
       "    </tr>\n",
       "    <tr>\n",
       "      <th>2</th>\n",
       "      <td>Equalizer 2</td>\n",
       "      <td>180</td>\n",
       "      <td>91</td>\n",
       "      <td>89</td>\n",
       "      <td>0.505556</td>\n",
       "      <td>Matthew Lickona</td>\n",
       "      <td>San Diego Reader</td>\n",
       "      <td>It's not much of a movie - more a parade of r...</td>\n",
       "      <td>rotten</td>\n",
       "      <td>July 27, 2018</td>\n",
       "    </tr>\n",
       "    <tr>\n",
       "      <th>3</th>\n",
       "      <td>Equalizer 2</td>\n",
       "      <td>180</td>\n",
       "      <td>91</td>\n",
       "      <td>89</td>\n",
       "      <td>0.505556</td>\n",
       "      <td>Michael O'Sullivan</td>\n",
       "      <td>Washington Post</td>\n",
       "      <td>McCall, for all his high-minded talk, seems t...</td>\n",
       "      <td>rotten</td>\n",
       "      <td>July 24, 2018</td>\n",
       "    </tr>\n",
       "    <tr>\n",
       "      <th>4</th>\n",
       "      <td>Equalizer 2</td>\n",
       "      <td>180</td>\n",
       "      <td>91</td>\n",
       "      <td>89</td>\n",
       "      <td>0.505556</td>\n",
       "      <td>Katie Walsh</td>\n",
       "      <td>Tribune News Service</td>\n",
       "      <td>Even with Washington at the top of his game, ...</td>\n",
       "      <td>rotten</td>\n",
       "      <td>July 20, 2018</td>\n",
       "    </tr>\n",
       "  </tbody>\n",
       "</table>\n",
       "</div>"
      ],
      "text/plain": [
       "         movie  total_reviews  num_fresh  num_rotten  tomatometer  \\\n",
       "0  Equalizer 2            180         91          89     0.505556   \n",
       "1  Equalizer 2            180         91          89     0.505556   \n",
       "2  Equalizer 2            180         91          89     0.505556   \n",
       "3  Equalizer 2            180         91          89     0.505556   \n",
       "4  Equalizer 2            180         91          89     0.505556   \n",
       "\n",
       "           top_critic                  source  \\\n",
       "0        Oliver Jones               Observer    \n",
       "1     Michael Gingold               Time Out    \n",
       "2     Matthew Lickona       San Diego Reader    \n",
       "3  Michael O'Sullivan        Washington Post    \n",
       "4         Katie Walsh   Tribune News Service    \n",
       "\n",
       "                                        review_quote freshness  \\\n",
       "0   Washington is a pleasure to watch on the scre...     fresh   \n",
       "1   Once it's over, you won't necessarily be itch...    rotten   \n",
       "2   It's not much of a movie - more a parade of r...    rotten   \n",
       "3   McCall, for all his high-minded talk, seems t...    rotten   \n",
       "4   Even with Washington at the top of his game, ...    rotten   \n",
       "\n",
       "        review_date  \n",
       "0   August 28, 2018  \n",
       "1   August 10, 2018  \n",
       "2     July 27, 2018  \n",
       "3     July 24, 2018  \n",
       "4     July 20, 2018  "
      ]
     },
     "execution_count": 2,
     "metadata": {},
     "output_type": "execute_result"
    }
   ],
   "source": [
    "# read in and save the dataset created by the rt_released_movies.py file:\n",
    "df = pd.read_csv('data/rt_reviews_released_movies.csv')\n",
    "print(df.info())\n",
    "df.head()"
   ]
  },
  {
   "cell_type": "code",
   "execution_count": 3,
   "metadata": {},
   "outputs": [
    {
     "data": {
      "text/html": [
       "<div>\n",
       "<style scoped>\n",
       "    .dataframe tbody tr th:only-of-type {\n",
       "        vertical-align: middle;\n",
       "    }\n",
       "\n",
       "    .dataframe tbody tr th {\n",
       "        vertical-align: top;\n",
       "    }\n",
       "\n",
       "    .dataframe thead th {\n",
       "        text-align: right;\n",
       "    }\n",
       "</style>\n",
       "<table border=\"1\" class=\"dataframe\">\n",
       "  <thead>\n",
       "    <tr style=\"text-align: right;\">\n",
       "      <th></th>\n",
       "      <th>movie</th>\n",
       "      <th>total_reviews</th>\n",
       "      <th>num_fresh</th>\n",
       "      <th>num_rotten</th>\n",
       "      <th>tomatometer</th>\n",
       "      <th>top_critic</th>\n",
       "      <th>source</th>\n",
       "      <th>review_quote</th>\n",
       "      <th>freshness</th>\n",
       "      <th>review_date</th>\n",
       "      <th>fresh</th>\n",
       "    </tr>\n",
       "  </thead>\n",
       "  <tbody>\n",
       "    <tr>\n",
       "      <th>144590</th>\n",
       "      <td>The Intended</td>\n",
       "      <td>27</td>\n",
       "      <td>9</td>\n",
       "      <td>18</td>\n",
       "      <td>0.333333</td>\n",
       "      <td>Stephen Holden</td>\n",
       "      <td>New York Times</td>\n",
       "      <td>Not even Janet McTeer, one of the world's mos...</td>\n",
       "      <td>rotten</td>\n",
       "      <td>June 24, 2004</td>\n",
       "      <td>0</td>\n",
       "    </tr>\n",
       "    <tr>\n",
       "      <th>144591</th>\n",
       "      <td>The Intended</td>\n",
       "      <td>27</td>\n",
       "      <td>9</td>\n",
       "      <td>18</td>\n",
       "      <td>0.333333</td>\n",
       "      <td>Jan Stuart</td>\n",
       "      <td>Newsday</td>\n",
       "      <td>Lays out many of the elements of a classic go...</td>\n",
       "      <td>rotten</td>\n",
       "      <td>June 24, 2004</td>\n",
       "      <td>0</td>\n",
       "    </tr>\n",
       "    <tr>\n",
       "      <th>144592</th>\n",
       "      <td>The Intended</td>\n",
       "      <td>27</td>\n",
       "      <td>9</td>\n",
       "      <td>18</td>\n",
       "      <td>0.333333</td>\n",
       "      <td>Scott Foundas</td>\n",
       "      <td>L.A. Weekly</td>\n",
       "      <td>Choking on its gothic, mosquito-infested atmo...</td>\n",
       "      <td>rotten</td>\n",
       "      <td>June 23, 2004</td>\n",
       "      <td>0</td>\n",
       "    </tr>\n",
       "    <tr>\n",
       "      <th>144593</th>\n",
       "      <td>The Intended</td>\n",
       "      <td>27</td>\n",
       "      <td>9</td>\n",
       "      <td>18</td>\n",
       "      <td>0.333333</td>\n",
       "      <td>Joshua Land</td>\n",
       "      <td>Village Voice</td>\n",
       "      <td>A taut noirish thriller that unfolds in a fev...</td>\n",
       "      <td>fresh</td>\n",
       "      <td>June 22, 2004</td>\n",
       "      <td>1</td>\n",
       "    </tr>\n",
       "    <tr>\n",
       "      <th>144594</th>\n",
       "      <td>The Intended</td>\n",
       "      <td>27</td>\n",
       "      <td>9</td>\n",
       "      <td>18</td>\n",
       "      <td>0.333333</td>\n",
       "      <td>Sheri Linden</td>\n",
       "      <td>Hollywood Reporter</td>\n",
       "      <td>Contributions of the accomplished cast notwit...</td>\n",
       "      <td>rotten</td>\n",
       "      <td>June 21, 2004</td>\n",
       "      <td>0</td>\n",
       "    </tr>\n",
       "  </tbody>\n",
       "</table>\n",
       "</div>"
      ],
      "text/plain": [
       "               movie  total_reviews  num_fresh  num_rotten  tomatometer  \\\n",
       "144590  The Intended             27          9          18     0.333333   \n",
       "144591  The Intended             27          9          18     0.333333   \n",
       "144592  The Intended             27          9          18     0.333333   \n",
       "144593  The Intended             27          9          18     0.333333   \n",
       "144594  The Intended             27          9          18     0.333333   \n",
       "\n",
       "            top_critic                source  \\\n",
       "144590  Stephen Holden       New York Times    \n",
       "144591      Jan Stuart              Newsday    \n",
       "144592   Scott Foundas          L.A. Weekly    \n",
       "144593     Joshua Land        Village Voice    \n",
       "144594    Sheri Linden   Hollywood Reporter    \n",
       "\n",
       "                                             review_quote freshness  \\\n",
       "144590   Not even Janet McTeer, one of the world's mos...    rotten   \n",
       "144591   Lays out many of the elements of a classic go...    rotten   \n",
       "144592   Choking on its gothic, mosquito-infested atmo...    rotten   \n",
       "144593   A taut noirish thriller that unfolds in a fev...     fresh   \n",
       "144594   Contributions of the accomplished cast notwit...    rotten   \n",
       "\n",
       "           review_date  fresh  \n",
       "144590   June 24, 2004      0  \n",
       "144591   June 24, 2004      0  \n",
       "144592   June 23, 2004      0  \n",
       "144593   June 22, 2004      1  \n",
       "144594   June 21, 2004      0  "
      ]
     },
     "execution_count": 3,
     "metadata": {},
     "output_type": "execute_result"
    }
   ],
   "source": [
    "df['fresh'] = (df.freshness == 'fresh').astype(int)\n",
    "df.tail()"
   ]
  },
  {
   "cell_type": "code",
   "execution_count": 4,
   "metadata": {},
   "outputs": [
    {
     "name": "stdout",
     "output_type": "stream",
     "text": [
      "Number of reviews: 144595\n",
      "Number of movies:  9276\n",
      "Number of 'Top Critics': 2744\n",
      "Number of publications:  655\n",
      "\n",
      "Average movie tomatometer: 60%\n",
      "Average 'Top Critic' review freshness: 59%\n"
     ]
    }
   ],
   "source": [
    "n_reviews = len(df)\n",
    "n_movies = df.movie.unique().size\n",
    "n_critics = df.top_critic.unique().size\n",
    "n_pubs = df.source.unique().size\n",
    "\n",
    "print(\"Number of reviews: {:d}\".format(n_reviews))\n",
    "print(\"Number of movies:  {:d}\".format(n_movies))\n",
    "print(\"Number of 'Top Critics': {:d}\".format(n_critics))\n",
    "print(\"Number of publications:  {:d}\".format(n_pubs))\n",
    "print()\n",
    "print('Average movie tomatometer: {:0.0f}%'.format(df.groupby('movie')['tomatometer'].mean().mean()*100))\n",
    "print(\"Average 'Top Critic' review freshness: {:0.0f}%\".format(df.fresh.mean()*100))"
   ]
  },
  {
   "cell_type": "code",
   "execution_count": 5,
   "metadata": {},
   "outputs": [
    {
     "data": {
      "image/png": "[encoded data removed]",
      "text/plain": [
       "<Figure size 864x432 with 1 Axes>"
      ]
     },
     "metadata": {},
     "output_type": "display_data"
    }
   ],
   "source": [
    "plt.style.use('fivethirtyeight')\n",
    "fig, ax = plt.subplots(figsize=(12, 6))\n",
    "sns.distplot(df.groupby('top_critic')['fresh'].mean())\n",
    "plt.xlabel(\"Average Freshness per 'Top Critic'\");"
   ]
  },
  {
   "cell_type": "code",
   "execution_count": 6,
   "metadata": {},
   "outputs": [
    {
     "data": {
      "text/html": [
       "<div>\n",
       "<style scoped>\n",
       "    .dataframe tbody tr th:only-of-type {\n",
       "        vertical-align: middle;\n",
       "    }\n",
       "\n",
       "    .dataframe tbody tr th {\n",
       "        vertical-align: top;\n",
       "    }\n",
       "\n",
       "    .dataframe thead th {\n",
       "        text-align: right;\n",
       "    }\n",
       "</style>\n",
       "<table border=\"1\" class=\"dataframe\">\n",
       "  <thead>\n",
       "    <tr style=\"text-align: right;\">\n",
       "      <th></th>\n",
       "      <th>top_critic</th>\n",
       "      <th>num_reviews</th>\n",
       "      <th>avg_freshness</th>\n",
       "    </tr>\n",
       "  </thead>\n",
       "  <tbody>\n",
       "    <tr>\n",
       "      <th>0</th>\n",
       "      <td>Emerson Rosenthal</td>\n",
       "      <td>1</td>\n",
       "      <td>1.000000</td>\n",
       "    </tr>\n",
       "    <tr>\n",
       "      <th>1</th>\n",
       "      <td>Nicholas Bell</td>\n",
       "      <td>1</td>\n",
       "      <td>1.000000</td>\n",
       "    </tr>\n",
       "    <tr>\n",
       "      <th>2</th>\n",
       "      <td>A.A. Dowd</td>\n",
       "      <td>484</td>\n",
       "      <td>0.611570</td>\n",
       "    </tr>\n",
       "    <tr>\n",
       "      <th>3</th>\n",
       "      <td>A.D. Murphy</td>\n",
       "      <td>4</td>\n",
       "      <td>1.000000</td>\n",
       "    </tr>\n",
       "    <tr>\n",
       "      <th>4</th>\n",
       "      <td>A.H. Weiler</td>\n",
       "      <td>9</td>\n",
       "      <td>0.444444</td>\n",
       "    </tr>\n",
       "  </tbody>\n",
       "</table>\n",
       "</div>"
      ],
      "text/plain": [
       "           top_critic  num_reviews  avg_freshness\n",
       "0   Emerson Rosenthal            1       1.000000\n",
       "1       Nicholas Bell            1       1.000000\n",
       "2           A.A. Dowd          484       0.611570\n",
       "3         A.D. Murphy            4       1.000000\n",
       "4         A.H. Weiler            9       0.444444"
      ]
     },
     "execution_count": 6,
     "metadata": {},
     "output_type": "execute_result"
    }
   ],
   "source": [
    "critics_df = pd.DataFrame({\n",
    "    'num_reviews': df.groupby('top_critic')['freshness'].count(),\n",
    "    'avg_freshness': df.groupby('top_critic')['fresh'].mean()\n",
    "}).reset_index()\n",
    "critics_df.head()"
   ]
  },
  {
   "cell_type": "code",
   "execution_count": 7,
   "metadata": {},
   "outputs": [
    {
     "data": {
      "image/png": "[encoded data removed]",
      "text/plain": [
       "<Figure size 864x432 with 1 Axes>"
      ]
     },
     "metadata": {},
     "output_type": "display_data"
    }
   ],
   "source": [
    "fig, ax = plt.subplots(figsize=(12, 6))\n",
    "\n",
    "# Create histogram of mean freshness for prolific critics (>99 reviews):\n",
    "sns.distplot(critics_df[critics_df.num_reviews >= 100].avg_freshness, bins=10)\n",
    "plt.xlabel('Average Freshness per Prolific Critic')\n",
    "plt.ylabel('Number of Critics');"
   ]
  },
  {
   "cell_type": "markdown",
   "metadata": {},
   "source": [
    "---\n",
    "## BAG OF WORDS\n",
    "From [scikit-learn](https://scikit-learn.org/stable/modules/feature_extraction.html#the-bag-of-words-representation):\n",
    ">Text Analysis is a major application field for machine learning algorithms. However the raw data, a sequence of symbols cannot be fed directly to the algorithms themselves as most of them expect numerical feature vectors with a fixed size rather than the raw text documents with variable length.\n",
    "<br><br>\n",
    ">In order to address this, scikit-learn provides utilities for the most common ways to extract numerical features from text content, namely:\n",
    ">* **tokenizing** strings and giving an integer id for each possible token, for instance by using white-spaces and punctuation as token separators.\n",
    "<br>\n",
    ">* **counting** the occurrences of tokens in each document.\n",
    "<br>\n",
    ">* **normalizing** and weighting with diminishing importance tokens that occur in the majority of samples / documents.\n",
    "\n",
    "\n",
    ">In this scheme, features and samples are defined as follows:\n",
    ">* each individual token occurrence frequency (normalized or not) is treated as a feature.\n",
    "<br>\n",
    ">* the vector of all the token frequencies for a given document is considered a multivariate sample.\n",
    "<br>\n",
    "\n",
    ">A **corpus** of documents can thus be represented by a matrix with one row per document and one column per token (e.g. word) occurring in the corpus.\n",
    "<br><br>\n",
    ">We call **vectorization** the general process of turning a collection of text documents into numerical feature vectors. This specific strategy (tokenization, counting and normalization) is called the Bag of Words or “Bag of n-grams” representation. Documents are described by word occurrences while completely ignoring the relative position information of the words in the document.\n",
    "\n",
    "### Tokenizing & Counting\n",
    "From [scikit-learn](https://scikit-learn.org/stable/modules/feature_extraction.html#common-vectorizer-usage)\n",
    ">`CountVectorizer` implements both tokenization and occurrence counting in a single class:"
   ]
  },
  {
   "cell_type": "code",
   "execution_count": 8,
   "metadata": {},
   "outputs": [
    {
     "data": {
      "text/plain": [
       "<4x17 sparse matrix of type '<class 'numpy.int64'>'\n",
       "\twith 23 stored elements in Compressed Sparse Row format>"
      ]
     },
     "execution_count": 8,
     "metadata": {},
     "output_type": "execute_result"
    }
   ],
   "source": [
    "# Simple example to get familiar -\n",
    "\n",
    "corpus = [\n",
    "    \"Roger Murdock: We have clearance, Clarence.\", \n",
    "    \"Captain Oveur: Roger, Roger. What's our vector, Victor?\",\n",
    "    \"Tower voice: Tower's radio clearance, over!\",\n",
    "    \"Captain Oveur: That's Clarence Oveur. Over.\"\n",
    "]\n",
    "\n",
    "# Initialize the sklearn vectorizer:\n",
    "vectorizer = CountVectorizer()\n",
    "\n",
    "# Learn the vocabulary and return 'bag of words' term-document matrix:\n",
    "X = vectorizer.fit_transform(corpus)\n",
    "X"
   ]
  },
  {
   "cell_type": "markdown",
   "metadata": {},
   "source": [
    ">The default configuration tokenizes the string by extracting words of at least 2 letters. Each term found by the analyzer during the fit is assigned a unique integer index corresponding to a column in the resulting matrix. This interpretation of the columns can be retrieved as follows:"
   ]
  },
  {
   "cell_type": "code",
   "execution_count": 9,
   "metadata": {},
   "outputs": [
    {
     "name": "stdout",
     "output_type": "stream",
     "text": [
      "['captain', 'clarence', 'clearance', 'have', 'murdock', 'our', 'over', 'oveur', 'radio', 'roger', 'that', 'tower', 'vector', 'victor', 'voice', 'we', 'what']\n"
     ]
    }
   ],
   "source": [
    "print(vectorizer.get_feature_names())"
   ]
  },
  {
   "cell_type": "code",
   "execution_count": 10,
   "metadata": {},
   "outputs": [
    {
     "data": {
      "text/plain": [
       "{'captain': 0,\n",
       " 'clarence': 1,\n",
       " 'clearance': 2,\n",
       " 'have': 3,\n",
       " 'murdock': 4,\n",
       " 'our': 5,\n",
       " 'over': 6,\n",
       " 'oveur': 7,\n",
       " 'radio': 8,\n",
       " 'roger': 9,\n",
       " 'that': 10,\n",
       " 'tower': 11,\n",
       " 'vector': 12,\n",
       " 'victor': 13,\n",
       " 'voice': 14,\n",
       " 'we': 15,\n",
       " 'what': 16}"
      ]
     },
     "execution_count": 10,
     "metadata": {},
     "output_type": "execute_result"
    }
   ],
   "source": [
    "# Print a mapping of terms to feature indices:\n",
    "vectorizer.vocabulary_"
   ]
  },
  {
   "cell_type": "markdown",
   "metadata": {},
   "source": [
    "From [scikit-learn](https://scikit-learn.org/stable/modules/feature_extraction.html#sparsity):\n",
    ">As most documents will typically use a very small subset of the words used in the corpus, the resulting matrix will have many feature values that are zeros (typically more than 99% of them).\n",
    "<br><br>\n",
    ">For instance a collection of 10,000 short text documents (such as emails) will use a vocabulary with a size in the order of 100,000 unique words in total while each document will use 100 to 1000 unique words individually.\n",
    "<br><br>\n",
    ">In order to be able to store such a matrix in memory but also to speed up algebraic operations matrix / vector, implementations will typically use a **sparse representation** such as the implementations available in the scipy.sparse package."
   ]
  },
  {
   "cell_type": "code",
   "execution_count": 11,
   "metadata": {},
   "outputs": [
    {
     "name": "stdout",
     "output_type": "stream",
     "text": [
      "  (0, 1)\t1\n",
      "  (0, 2)\t1\n",
      "  (0, 3)\t1\n",
      "  (0, 15)\t1\n",
      "  (0, 4)\t1\n",
      "  (0, 9)\t1\n",
      "  (1, 13)\t1\n",
      "  (1, 12)\t1\n",
      "  (1, 5)\t1\n",
      "  (1, 16)\t1\n",
      "  (1, 7)\t1\n",
      "  (1, 0)\t1\n",
      "  (1, 9)\t2\n",
      "  (2, 6)\t1\n",
      "  (2, 8)\t1\n",
      "  (2, 14)\t1\n",
      "  (2, 11)\t2\n",
      "  (2, 2)\t1\n",
      "  (3, 10)\t1\n",
      "  (3, 6)\t1\n",
      "  (3, 7)\t2\n",
      "  (3, 0)\t1\n",
      "  (3, 1)\t1\n"
     ]
    }
   ],
   "source": [
    "# Print the sparse term-document matrix:\n",
    "print(X)"
   ]
  },
  {
   "cell_type": "code",
   "execution_count": 12,
   "metadata": {},
   "outputs": [
    {
     "data": {
      "text/plain": [
       "array([[0, 1, 1, 1, 1, 0, 0, 0, 0, 1, 0, 0, 0, 0, 0, 1, 0],\n",
       "       [1, 0, 0, 0, 0, 1, 0, 1, 0, 2, 0, 0, 1, 1, 0, 0, 1],\n",
       "       [0, 0, 1, 0, 0, 0, 1, 0, 1, 0, 0, 2, 0, 0, 1, 0, 0],\n",
       "       [1, 1, 0, 0, 0, 0, 1, 2, 0, 0, 1, 0, 0, 0, 0, 0, 0]], dtype=int64)"
      ]
     },
     "execution_count": 12,
     "metadata": {},
     "output_type": "execute_result"
    }
   ],
   "source": [
    "# Convert the sparse matrix to a dense (includes zeros) matrix:\n",
    "X.toarray()"
   ]
  },
  {
   "cell_type": "markdown",
   "metadata": {},
   "source": [
    "### Normalizing\n",
    "From [scikit-learn](https://scikit-learn.org/stable/modules/feature_extraction.html#tfidf-term-weighting):\n",
    ">In a large text corpus, some words will be very present (e.g. “the”, “a”, “is” in English) hence carrying very little meaningful information about the actual contents of the document. If we were to feed the direct count data directly to a classifier those very frequent terms would shadow the frequencies of rarer yet more interesting terms.\n",
    "<br><br>\n",
    ">In order to re-weight the count features into floating point values suitable for usage by a classifier it is very common to use the tf–idf transform.\n",
    "<br><br>\n",
    ">Tf means **term-frequency** while tf–idf means term-frequency times **inverse document-frequency**: $\\text{tf-idf(t, d)}=\\text{tf(t, d)} \\times \\text{idf(t)}$\n",
    "<br><br>\n",
    ">Using the `TfidfTransformer`’s default settings, `TfidfTransformer(norm='l2', use_idf=True, smooth_idf=True, sublinear_tf=False)` the term frequency, the number of times a term occurs in a given document, is multiplied with idf component, which is computed as:\n",
    "$$ \\text{idf}(t) = log{\\frac{1 + n_d}{1+\\text{df}(d,t)}} + 1 $$\n",
    "<br><br>\n",
    ">where $n_d$ is the total number of documents, and $\\text{df}(d,t)$ is the number of documents that contain term $t$. The resulting tf-idf vectors are then normalized by the Euclidean norm:\n",
    "$$ v_{norm} = \\frac{v}{||v||_2} = \\frac{v}{\\sqrt{v{_1}^2 +\n",
    "v{_2}^2 + \\dots + v{_n}^2}} $$\n",
    "<br><br>\n",
    ">This was originally a term weighting scheme developed for information retrieval (as a ranking function for search engines results) that has also found good use in document classification and clustering."
   ]
  },
  {
   "cell_type": "code",
   "execution_count": 13,
   "metadata": {},
   "outputs": [
    {
     "data": {
      "text/plain": [
       "array([[0.        , 0.33409354, 0.33409354, 0.47086605, 0.47086605,\n",
       "        0.        , 0.        , 0.        , 0.        , 0.33409354,\n",
       "        0.        , 0.        , 0.        , 0.        , 0.        ,\n",
       "        0.47086605, 0.        ],\n",
       "       [0.26778343, 0.        , 0.        , 0.        , 0.        ,\n",
       "        0.37740966, 0.        , 0.26778343, 0.        , 0.53556687,\n",
       "        0.        , 0.        , 0.37740966, 0.37740966, 0.        ,\n",
       "        0.        , 0.37740966],\n",
       "       [0.        , 0.        , 0.26804568, 0.        , 0.        ,\n",
       "        0.        , 0.26804568, 0.        , 0.37777926, 0.        ,\n",
       "        0.        , 0.75555853, 0.        , 0.        , 0.37777926,\n",
       "        0.        , 0.        ],\n",
       "       [0.33358616, 0.33358616, 0.        , 0.        , 0.        ,\n",
       "        0.        , 0.33358616, 0.66717232, 0.        , 0.        ,\n",
       "        0.47015096, 0.        , 0.        , 0.        , 0.        ,\n",
       "        0.        , 0.        ]])"
      ]
     },
     "execution_count": 13,
     "metadata": {},
     "output_type": "execute_result"
    }
   ],
   "source": [
    "# Initialize the sklearn transformer:\n",
    "transformer = TfidfTransformer(smooth_idf=False)\n",
    "\n",
    "tfidf = transformer.fit_transform(X)\n",
    "tfidf.toarray()"
   ]
  },
  {
   "cell_type": "markdown",
   "metadata": {},
   "source": [
    ">**smooth_idf : boolean, default=True** Smooth idf weights by adding one to document frequencies, as if an extra document was seen containing every term in the collection exactly once. Prevents zero divisions."
   ]
  },
  {
   "cell_type": "code",
   "execution_count": 14,
   "metadata": {},
   "outputs": [
    {
     "data": {
      "text/plain": [
       "array([[0.        , 0.35745504, 0.35745504, 0.4533864 , 0.4533864 ,\n",
       "        0.        , 0.        , 0.        , 0.        , 0.35745504,\n",
       "        0.        , 0.        , 0.        , 0.        , 0.        ,\n",
       "        0.4533864 , 0.        ],\n",
       "       [0.28358005, 0.        , 0.        , 0.        , 0.        ,\n",
       "        0.35968533, 0.        , 0.28358005, 0.        , 0.56716009,\n",
       "        0.        , 0.        , 0.35968533, 0.35968533, 0.        ,\n",
       "        0.        , 0.35968533],\n",
       "       [0.        , 0.        , 0.29294639, 0.        , 0.        ,\n",
       "        0.        , 0.29294639, 0.        , 0.37156534, 0.        ,\n",
       "        0.        , 0.74313069, 0.        , 0.        , 0.37156534,\n",
       "        0.        , 0.        ],\n",
       "       [0.34082342, 0.34082342, 0.        , 0.        , 0.        ,\n",
       "        0.        , 0.34082342, 0.68164684, 0.        , 0.        ,\n",
       "        0.43229129, 0.        , 0.        , 0.        , 0.        ,\n",
       "        0.        , 0.        ]])"
      ]
     },
     "execution_count": 14,
     "metadata": {},
     "output_type": "execute_result"
    }
   ],
   "source": [
    "# Initialize the sklearn transformer:\n",
    "transformer = TfidfTransformer()\n",
    "\n",
    "tfidf = transformer.fit_transform(X)\n",
    "tfidf.toarray()"
   ]
  },
  {
   "cell_type": "markdown",
   "metadata": {},
   "source": [
    ">The weights of each feature computed by the `fit` method call are stored in a model attribute:"
   ]
  },
  {
   "cell_type": "code",
   "execution_count": 15,
   "metadata": {},
   "outputs": [
    {
     "data": {
      "text/plain": [
       "array([1.51082562, 1.51082562, 1.51082562, 1.91629073, 1.91629073,\n",
       "       1.91629073, 1.51082562, 1.51082562, 1.91629073, 1.51082562,\n",
       "       1.91629073, 1.91629073, 1.91629073, 1.91629073, 1.91629073,\n",
       "       1.91629073, 1.91629073])"
      ]
     },
     "execution_count": 15,
     "metadata": {},
     "output_type": "execute_result"
    }
   ],
   "source": [
    "transformer.idf_"
   ]
  },
  {
   "cell_type": "markdown",
   "metadata": {},
   "source": [
    "### Tokenize, Count, Normalize with One Vectorizer\n",
    ">As tf–idf is very often used for text features, there is also another class called `TfidfVectorizer` that combines all the options of `CountVectorizer` and `TfidfTransformer` in a single model:"
   ]
  },
  {
   "cell_type": "code",
   "execution_count": 16,
   "metadata": {},
   "outputs": [
    {
     "data": {
      "text/html": [
       "<div>\n",
       "<style scoped>\n",
       "    .dataframe tbody tr th:only-of-type {\n",
       "        vertical-align: middle;\n",
       "    }\n",
       "\n",
       "    .dataframe tbody tr th {\n",
       "        vertical-align: top;\n",
       "    }\n",
       "\n",
       "    .dataframe thead th {\n",
       "        text-align: right;\n",
       "    }\n",
       "</style>\n",
       "<table border=\"1\" class=\"dataframe\">\n",
       "  <thead>\n",
       "    <tr style=\"text-align: right;\">\n",
       "      <th></th>\n",
       "      <th>captain</th>\n",
       "      <th>clarence</th>\n",
       "      <th>clearance</th>\n",
       "      <th>have</th>\n",
       "      <th>murdock</th>\n",
       "      <th>our</th>\n",
       "      <th>over</th>\n",
       "      <th>oveur</th>\n",
       "      <th>radio</th>\n",
       "      <th>roger</th>\n",
       "      <th>that</th>\n",
       "      <th>tower</th>\n",
       "      <th>vector</th>\n",
       "      <th>victor</th>\n",
       "      <th>voice</th>\n",
       "      <th>we</th>\n",
       "      <th>what</th>\n",
       "    </tr>\n",
       "  </thead>\n",
       "  <tbody>\n",
       "    <tr>\n",
       "      <th>0</th>\n",
       "      <td>0.000000</td>\n",
       "      <td>0.357455</td>\n",
       "      <td>0.357455</td>\n",
       "      <td>0.453386</td>\n",
       "      <td>0.453386</td>\n",
       "      <td>0.000000</td>\n",
       "      <td>0.000000</td>\n",
       "      <td>0.000000</td>\n",
       "      <td>0.000000</td>\n",
       "      <td>0.357455</td>\n",
       "      <td>0.000000</td>\n",
       "      <td>0.000000</td>\n",
       "      <td>0.000000</td>\n",
       "      <td>0.000000</td>\n",
       "      <td>0.000000</td>\n",
       "      <td>0.453386</td>\n",
       "      <td>0.000000</td>\n",
       "    </tr>\n",
       "    <tr>\n",
       "      <th>1</th>\n",
       "      <td>0.283580</td>\n",
       "      <td>0.000000</td>\n",
       "      <td>0.000000</td>\n",
       "      <td>0.000000</td>\n",
       "      <td>0.000000</td>\n",
       "      <td>0.359685</td>\n",
       "      <td>0.000000</td>\n",
       "      <td>0.283580</td>\n",
       "      <td>0.000000</td>\n",
       "      <td>0.567160</td>\n",
       "      <td>0.000000</td>\n",
       "      <td>0.000000</td>\n",
       "      <td>0.359685</td>\n",
       "      <td>0.359685</td>\n",
       "      <td>0.000000</td>\n",
       "      <td>0.000000</td>\n",
       "      <td>0.359685</td>\n",
       "    </tr>\n",
       "    <tr>\n",
       "      <th>2</th>\n",
       "      <td>0.000000</td>\n",
       "      <td>0.000000</td>\n",
       "      <td>0.292946</td>\n",
       "      <td>0.000000</td>\n",
       "      <td>0.000000</td>\n",
       "      <td>0.000000</td>\n",
       "      <td>0.292946</td>\n",
       "      <td>0.000000</td>\n",
       "      <td>0.371565</td>\n",
       "      <td>0.000000</td>\n",
       "      <td>0.000000</td>\n",
       "      <td>0.743131</td>\n",
       "      <td>0.000000</td>\n",
       "      <td>0.000000</td>\n",
       "      <td>0.371565</td>\n",
       "      <td>0.000000</td>\n",
       "      <td>0.000000</td>\n",
       "    </tr>\n",
       "    <tr>\n",
       "      <th>3</th>\n",
       "      <td>0.340823</td>\n",
       "      <td>0.340823</td>\n",
       "      <td>0.000000</td>\n",
       "      <td>0.000000</td>\n",
       "      <td>0.000000</td>\n",
       "      <td>0.000000</td>\n",
       "      <td>0.340823</td>\n",
       "      <td>0.681647</td>\n",
       "      <td>0.000000</td>\n",
       "      <td>0.000000</td>\n",
       "      <td>0.432291</td>\n",
       "      <td>0.000000</td>\n",
       "      <td>0.000000</td>\n",
       "      <td>0.000000</td>\n",
       "      <td>0.000000</td>\n",
       "      <td>0.000000</td>\n",
       "      <td>0.000000</td>\n",
       "    </tr>\n",
       "  </tbody>\n",
       "</table>\n",
       "</div>"
      ],
      "text/plain": [
       "    captain  clarence  clearance      have   murdock       our      over  \\\n",
       "0  0.000000  0.357455   0.357455  0.453386  0.453386  0.000000  0.000000   \n",
       "1  0.283580  0.000000   0.000000  0.000000  0.000000  0.359685  0.000000   \n",
       "2  0.000000  0.000000   0.292946  0.000000  0.000000  0.000000  0.292946   \n",
       "3  0.340823  0.340823   0.000000  0.000000  0.000000  0.000000  0.340823   \n",
       "\n",
       "      oveur     radio     roger      that     tower    vector    victor  \\\n",
       "0  0.000000  0.000000  0.357455  0.000000  0.000000  0.000000  0.000000   \n",
       "1  0.283580  0.000000  0.567160  0.000000  0.000000  0.359685  0.359685   \n",
       "2  0.000000  0.371565  0.000000  0.000000  0.743131  0.000000  0.000000   \n",
       "3  0.681647  0.000000  0.000000  0.432291  0.000000  0.000000  0.000000   \n",
       "\n",
       "      voice        we      what  \n",
       "0  0.000000  0.453386  0.000000  \n",
       "1  0.000000  0.000000  0.359685  \n",
       "2  0.371565  0.000000  0.000000  \n",
       "3  0.000000  0.000000  0.000000  "
      ]
     },
     "execution_count": 16,
     "metadata": {},
     "output_type": "execute_result"
    }
   ],
   "source": [
    "# Initialize the sklearn vectorizer:\n",
    "vectorizer = TfidfVectorizer()\n",
    "\n",
    "# Learn the vocabulary and idf, return 'bag of words' term-document matrix:\n",
    "tfidf = vectorizer.fit_transform(corpus)\n",
    "\n",
    "pd.DataFrame(tfidf.toarray(), columns=vectorizer.get_feature_names())"
   ]
  },
  {
   "cell_type": "code",
   "execution_count": 17,
   "metadata": {},
   "outputs": [
    {
     "name": "stdout",
     "output_type": "stream",
     "text": [
      "[1.5108256237659907, 1.5108256237659907, 1.5108256237659907, 1.916290731874155, 1.916290731874155, 1.916290731874155, 1.5108256237659907, 1.5108256237659907, 1.916290731874155, 1.5108256237659907, 1.916290731874155, 1.916290731874155, 1.916290731874155, 1.916290731874155, 1.916290731874155, 1.916290731874155, 1.916290731874155]\n"
     ]
    }
   ],
   "source": [
    "print(vectorizer.idf_.tolist())"
   ]
  },
  {
   "cell_type": "markdown",
   "metadata": {},
   "source": [
    ">While the tf–idf normalization is often very useful, there might be cases where the binary occurrence markers might offer better features. This can be achieved by using the binary parameter of `CountVectorizer`. In particular, some estimators such as Bernoulli Naive Bayes explicitly model discrete boolean random variables. Also, **very short texts are likely to have noisy tf–idf values** while the binary occurrence info is more stable.\n",
    "<br><br>\n",
    ">As usual the best way to adjust the feature extraction parameters is to use a cross-validated grid search, for instance by pipelining the feature extractor with a classifier."
   ]
  },
  {
   "cell_type": "markdown",
   "metadata": {},
   "source": [
    "### Bag of N-Grams\n",
    "From [scikit-learn](https://scikit-learn.org/stable/modules/feature_extraction.html#limitations-of-the-bag-of-words-representation):\n",
    ">A collection of unigrams (what bag of words is) cannot capture phrases and multi-word expressions, effectively disregarding any word order dependence. Additionally, the bag of words model doesn’t account for potential misspellings or word derivations.\n",
    "<br><br>\n",
    ">N-grams to the rescue! Instead of building a simple collection of unigrams (n=1), one might prefer a collection of bigrams (n=2), where occurrences of pairs of consecutive words are counted.\n",
    "<br><br>\n",
    ">One might alternatively consider a collection of character n-grams, a representation resilient against misspellings and derivations.\n",
    "\n",
    "\n",
    ">**analyzer : string, {‘word’, ‘char’, ‘char_wb’} or callable**\n",
    "Whether the feature should be made of word or character n-grams. Option ‘char_wb’ creates character n-grams only from text inside word boundaries; n-grams at the edges of words are padded with space.\n",
    "\n",
    "\n",
    ">**ngram_range : tuple (min_n, max_n)**\n",
    "The lower and upper boundary of the range of n-values for different n-grams to be extracted. All values of n such that min_n <= n <= max_n will be used."
   ]
  },
  {
   "cell_type": "code",
   "execution_count": 18,
   "metadata": {},
   "outputs": [
    {
     "data": {
      "text/html": [
       "<div>\n",
       "<style scoped>\n",
       "    .dataframe tbody tr th:only-of-type {\n",
       "        vertical-align: middle;\n",
       "    }\n",
       "\n",
       "    .dataframe tbody tr th {\n",
       "        vertical-align: top;\n",
       "    }\n",
       "\n",
       "    .dataframe thead th {\n",
       "        text-align: right;\n",
       "    }\n",
       "</style>\n",
       "<table border=\"1\" class=\"dataframe\">\n",
       "  <thead>\n",
       "    <tr style=\"text-align: right;\">\n",
       "      <th></th>\n",
       "      <th>captain oveur</th>\n",
       "      <th>clarence oveur</th>\n",
       "      <th>clearance clarence</th>\n",
       "      <th>clearance over</th>\n",
       "      <th>have clearance</th>\n",
       "      <th>murdock we</th>\n",
       "      <th>our vector</th>\n",
       "      <th>oveur over</th>\n",
       "      <th>oveur roger</th>\n",
       "      <th>oveur that</th>\n",
       "      <th>...</th>\n",
       "      <th>roger murdock</th>\n",
       "      <th>roger roger</th>\n",
       "      <th>roger what</th>\n",
       "      <th>that clarence</th>\n",
       "      <th>tower radio</th>\n",
       "      <th>tower voice</th>\n",
       "      <th>vector victor</th>\n",
       "      <th>voice tower</th>\n",
       "      <th>we have</th>\n",
       "      <th>what our</th>\n",
       "    </tr>\n",
       "  </thead>\n",
       "  <tbody>\n",
       "    <tr>\n",
       "      <th>0</th>\n",
       "      <td>0.000000</td>\n",
       "      <td>0.000000</td>\n",
       "      <td>0.447214</td>\n",
       "      <td>0.000000</td>\n",
       "      <td>0.447214</td>\n",
       "      <td>0.447214</td>\n",
       "      <td>0.000000</td>\n",
       "      <td>0.000000</td>\n",
       "      <td>0.000000</td>\n",
       "      <td>0.000000</td>\n",
       "      <td>...</td>\n",
       "      <td>0.447214</td>\n",
       "      <td>0.000000</td>\n",
       "      <td>0.000000</td>\n",
       "      <td>0.000000</td>\n",
       "      <td>0.000000</td>\n",
       "      <td>0.000000</td>\n",
       "      <td>0.000000</td>\n",
       "      <td>0.000000</td>\n",
       "      <td>0.447214</td>\n",
       "      <td>0.000000</td>\n",
       "    </tr>\n",
       "    <tr>\n",
       "      <th>1</th>\n",
       "      <td>0.306388</td>\n",
       "      <td>0.000000</td>\n",
       "      <td>0.000000</td>\n",
       "      <td>0.000000</td>\n",
       "      <td>0.000000</td>\n",
       "      <td>0.000000</td>\n",
       "      <td>0.388614</td>\n",
       "      <td>0.000000</td>\n",
       "      <td>0.388614</td>\n",
       "      <td>0.000000</td>\n",
       "      <td>...</td>\n",
       "      <td>0.000000</td>\n",
       "      <td>0.388614</td>\n",
       "      <td>0.388614</td>\n",
       "      <td>0.000000</td>\n",
       "      <td>0.000000</td>\n",
       "      <td>0.000000</td>\n",
       "      <td>0.388614</td>\n",
       "      <td>0.000000</td>\n",
       "      <td>0.000000</td>\n",
       "      <td>0.388614</td>\n",
       "    </tr>\n",
       "    <tr>\n",
       "      <th>2</th>\n",
       "      <td>0.000000</td>\n",
       "      <td>0.000000</td>\n",
       "      <td>0.000000</td>\n",
       "      <td>0.447214</td>\n",
       "      <td>0.000000</td>\n",
       "      <td>0.000000</td>\n",
       "      <td>0.000000</td>\n",
       "      <td>0.000000</td>\n",
       "      <td>0.000000</td>\n",
       "      <td>0.000000</td>\n",
       "      <td>...</td>\n",
       "      <td>0.000000</td>\n",
       "      <td>0.000000</td>\n",
       "      <td>0.000000</td>\n",
       "      <td>0.000000</td>\n",
       "      <td>0.447214</td>\n",
       "      <td>0.447214</td>\n",
       "      <td>0.000000</td>\n",
       "      <td>0.447214</td>\n",
       "      <td>0.000000</td>\n",
       "      <td>0.000000</td>\n",
       "    </tr>\n",
       "    <tr>\n",
       "      <th>3</th>\n",
       "      <td>0.366739</td>\n",
       "      <td>0.465162</td>\n",
       "      <td>0.000000</td>\n",
       "      <td>0.000000</td>\n",
       "      <td>0.000000</td>\n",
       "      <td>0.000000</td>\n",
       "      <td>0.000000</td>\n",
       "      <td>0.465162</td>\n",
       "      <td>0.000000</td>\n",
       "      <td>0.465162</td>\n",
       "      <td>...</td>\n",
       "      <td>0.000000</td>\n",
       "      <td>0.000000</td>\n",
       "      <td>0.000000</td>\n",
       "      <td>0.465162</td>\n",
       "      <td>0.000000</td>\n",
       "      <td>0.000000</td>\n",
       "      <td>0.000000</td>\n",
       "      <td>0.000000</td>\n",
       "      <td>0.000000</td>\n",
       "      <td>0.000000</td>\n",
       "    </tr>\n",
       "  </tbody>\n",
       "</table>\n",
       "<p>4 rows × 21 columns</p>\n",
       "</div>"
      ],
      "text/plain": [
       "   captain oveur  clarence oveur  clearance clarence  clearance over  \\\n",
       "0       0.000000        0.000000            0.447214        0.000000   \n",
       "1       0.306388        0.000000            0.000000        0.000000   \n",
       "2       0.000000        0.000000            0.000000        0.447214   \n",
       "3       0.366739        0.465162            0.000000        0.000000   \n",
       "\n",
       "   have clearance  murdock we  our vector  oveur over  oveur roger  \\\n",
       "0        0.447214    0.447214    0.000000    0.000000     0.000000   \n",
       "1        0.000000    0.000000    0.388614    0.000000     0.388614   \n",
       "2        0.000000    0.000000    0.000000    0.000000     0.000000   \n",
       "3        0.000000    0.000000    0.000000    0.465162     0.000000   \n",
       "\n",
       "   oveur that    ...     roger murdock  roger roger  roger what  \\\n",
       "0    0.000000    ...          0.447214     0.000000    0.000000   \n",
       "1    0.000000    ...          0.000000     0.388614    0.388614   \n",
       "2    0.000000    ...          0.000000     0.000000    0.000000   \n",
       "3    0.465162    ...          0.000000     0.000000    0.000000   \n",
       "\n",
       "   that clarence  tower radio  tower voice  vector victor  voice tower  \\\n",
       "0       0.000000     0.000000     0.000000       0.000000     0.000000   \n",
       "1       0.000000     0.000000     0.000000       0.388614     0.000000   \n",
       "2       0.000000     0.447214     0.447214       0.000000     0.447214   \n",
       "3       0.465162     0.000000     0.000000       0.000000     0.000000   \n",
       "\n",
       "    we have  what our  \n",
       "0  0.447214  0.000000  \n",
       "1  0.000000  0.388614  \n",
       "2  0.000000  0.000000  \n",
       "3  0.000000  0.000000  \n",
       "\n",
       "[4 rows x 21 columns]"
      ]
     },
     "execution_count": 18,
     "metadata": {},
     "output_type": "execute_result"
    }
   ],
   "source": [
    "# Initialize the sklearn vectorizer:\n",
    "vectorizer = TfidfVectorizer(ngram_range=(2, 2))\n",
    "\n",
    "# Learn the vocabulary and idf, return 'bag of words' term-document matrix:\n",
    "tfidf = vectorizer.fit_transform(corpus)\n",
    "\n",
    "pd.DataFrame(tfidf.toarray(), columns=vectorizer.get_feature_names())"
   ]
  },
  {
   "cell_type": "markdown",
   "metadata": {},
   "source": [
    "---\n",
    "## NAIVE BAYES\n",
    "From [Wikipedia](https://en.wikipedia.org/wiki/Naive_Bayes_classifier):\n",
    ">Naive Bayes has been studied extensively since the 1950s. It was introduced under a different name into the text retrieval community in the early 1960s, and remains a popular (baseline) method for text categorization, the problem of judging documents as belonging to one category or the other (such as spam or legitimate, sports or politics, etc.) with word frequencies as the features. With appropriate pre-processing, it is competitive in this domain with more advanced methods including support vector machines.\n",
    "\n",
    "\n",
    "From [scikit-learn](https://scikit-learn.org/stable/modules/naive_bayes.html#):\n",
    ">Naive Bayes methods are a set of supervised learning algorithms based on applying Bayes’ theorem with the “naive” assumption of conditional independence between every pair of features given the value of the class variable. Bayes’ theorem states the following relationship, given class variable  and dependent feature vector $x_1$ through $x_n$:\n",
    "$$ P(y \\mid x_1, \\dots, x_n) = \\frac{P(y) P(x_1, \\dots x_n \\mid y)}\n",
    "                                 {P(x_1, \\dots, x_n)} $$\n",
    "<br>\n",
    ">The different naive Bayes classifiers differ mainly by the assumptions they make regarding the distribution of $P(x_i \\mid y)$.\n",
    "<br><br>\n",
    ">In spite of their apparently over-simplified assumptions, naive Bayes classifiers have worked quite well in many real-world situations, famously document classification and spam filtering. They require a small amount of training data to estimate the necessary parameters.\n",
    "<br><br>\n",
    ">Naive Bayes learners and classifiers can be extremely fast compared to more sophisticated methods. The decoupling of the class conditional feature distributions means that each distribution can be independently estimated as a one dimensional distribution. This in turn helps to alleviate problems stemming from the curse of dimensionality.\n",
    "<br><br>\n",
    ">On the flip side, although naive Bayes is known as a decent classifier, it is known to be a bad estimator, so the probability outputs from `predict_proba` are not to be taken too seriously.\n",
    "\n",
    "\n",
    ">### Multinomial Naive Bayes\n",
    ">`MultinomialNB` implements the naive Bayes algorithm for multinomially distributed data, and is one of the two classic naive Bayes variants used in text classification (where the data are typically represented as word vector counts, although tf-idf vectors are also known to work well in practice). The distribution is parametrized by vectors $\\theta_y = (\\theta_{y1},\\ldots,\\theta_{yn})$ for each class $y$, where $n$ is the number of features (in text classification, the size of the vocabulary) and $\\theta_{yi}$ is the probability $P(x_i \\mid y)$ of feature $i$ appearing in a sample belonging to class $y$.\n",
    "<br><br>\n",
    ">The parameters $\\theta_y$ is estimated by a smoothed version of maximum likelihood, i.e. relative frequency counting:\n",
    "$$ \\hat{\\theta}_{yi} = \\frac{ N_{yi} + \\alpha}{N_y + \\alpha n} $$\n",
    "<br><br>\n",
    ">where $N_{yi} = \\sum_{x \\in T} x_i$ is the number of times feature $i$ appears in a sample of class $y$ in the training set $T$, and $N_{y} = \\sum_{i=1}^{n} N_{yi}$ is the total count of all features for class $y$.\n",
    "<br><br>\n",
    ">The smoothing priors $\\alpha \\ge 0$ accounts for features not present in the learning samples and prevents zero probabilities in further computations. Setting $\\alpha = 1$ is called Laplace smoothing, while $\\alpha < 1$ is called Lidstone smoothing."
   ]
  },
  {
   "cell_type": "markdown",
   "metadata": {},
   "source": [
    "---\n",
    "## ROTTEN TOMATOES REVIEWS\n",
    "To simulate the real world, where new documents may contain words never seen before, it may make sense to split the data into training and test sets before vectorization of the corpus. "
   ]
  },
  {
   "cell_type": "code",
   "execution_count": 19,
   "metadata": {},
   "outputs": [],
   "source": [
    "X = df.review_quote\n",
    "y = df.fresh"
   ]
  },
  {
   "cell_type": "markdown",
   "metadata": {},
   "source": [
    "#### Vectorize First"
   ]
  },
  {
   "cell_type": "code",
   "execution_count": 20,
   "metadata": {},
   "outputs": [],
   "source": [
    "def vectorize_split_classify(X, y, tfidf=False):\n",
    "    if tfidf:\n",
    "        vectorizer = TfidfVectorizer()\n",
    "        print('TFIDF VECTORIZER')\n",
    "    else:\n",
    "        vectorizer = CountVectorizer()\n",
    "        print('COUNT VECTORIZER')\n",
    "        \n",
    "    X = vectorizer.fit_transform(X)\n",
    "    X_train, X_test, y_train, y_test = train_test_split(X, y, random_state=32)\n",
    "\n",
    "    clf = MultinomialNB().fit(X_train, y_train)\n",
    "\n",
    "    print(\"\\tAccuracy on Training Data: {:0.2f}%\".format(clf.score(X_train, y_train)*100))\n",
    "    print(\"\\t    Accuracy on Test Data: {:0.2f}%\".format(clf.score(X_test, y_test)*100))"
   ]
  },
  {
   "cell_type": "code",
   "execution_count": 21,
   "metadata": {},
   "outputs": [
    {
     "name": "stdout",
     "output_type": "stream",
     "text": [
      "COUNT VECTORIZER\n",
      "\tAccuracy on Training Data: 84.20%\n",
      "\t    Accuracy on Test Data: 77.95%\n",
      "\n",
      "TFIDF VECTORIZER\n",
      "\tAccuracy on Training Data: 80.82%\n",
      "\t    Accuracy on Test Data: 75.23%\n"
     ]
    }
   ],
   "source": [
    "vectorize_split_classify(X, y, tfidf=False)\n",
    "print()\n",
    "vectorize_split_classify(X, y, tfidf=True)"
   ]
  },
  {
   "cell_type": "markdown",
   "metadata": {},
   "source": [
    "#### Train/Test Split First"
   ]
  },
  {
   "cell_type": "code",
   "execution_count": 22,
   "metadata": {},
   "outputs": [],
   "source": [
    "def split_vectorize_classify(X, y, tfidf=False):\n",
    "    X_train, X_test, y_train, y_test = train_test_split(X, y, random_state=32)\n",
    "    \n",
    "    if tfidf:\n",
    "        vectorizer = TfidfVectorizer()\n",
    "        X_train = vectorizer.fit_transform(X_train)\n",
    "        X_test = vectorizer.transform(X_test)\n",
    "        print('TFIDF VECTORIZER')\n",
    "    else:\n",
    "        vectorizer = CountVectorizer()\n",
    "        X_train = vectorizer.fit_transform(X_train)\n",
    "        X_test = vectorizer.transform(X_test)\n",
    "        print('COUNT VECTORIZER')\n",
    "        \n",
    "    clf = MultinomialNB().fit(X_train, y_train)\n",
    "\n",
    "    print(\"\\tAccuracy on Training Data: {:0.2f}%\".format(clf.score(X_train, y_train)*100))\n",
    "    print(\"\\t    Accuracy on Test Data: {:0.2f}%\".format(clf.score(X_test, y_test)*100))"
   ]
  },
  {
   "cell_type": "code",
   "execution_count": 23,
   "metadata": {},
   "outputs": [
    {
     "name": "stdout",
     "output_type": "stream",
     "text": [
      "COUNT VECTORIZER\n",
      "\tAccuracy on Training Data: 84.19%\n",
      "\t    Accuracy on Test Data: 77.95%\n",
      "\n",
      "TFIDF VECTORIZER\n",
      "\tAccuracy on Training Data: 81.16%\n",
      "\t    Accuracy on Test Data: 75.36%\n"
     ]
    }
   ],
   "source": [
    "split_vectorize_classify(X, y, tfidf=False)\n",
    "print()\n",
    "split_vectorize_classify(X, y, tfidf=True)"
   ]
  },
  {
   "cell_type": "markdown",
   "metadata": {},
   "source": [
    "### Hyper-Parameter Tuning\n",
    "From [this stackoverflow question](https://stackoverflow.com/questions/27697766/understanding-min-df-and-max-df-in-scikit-countvectorizer):\n",
    ">`max_df` is used for removing terms that appear too frequently, also known as \"corpus-specific stop words\". For example:\n",
    "<br>\n",
    ">* `max_df = 0.50` means \"ignore terms that appear in more than 50% of the documents\".\n",
    ">* `max_df = 25` means \"ignore terms that appear in more than 25 documents\".\n",
    "<br><br>\n",
    ">The default `max_df` is 1.0, which means \"ignore terms that appear in more than 100% of the documents\". Thus, the default setting does not ignore any terms.\n",
    "<br>\n",
    ">---\n",
    ">`min_df` is used for removing terms that appear too infrequently. For example:\n",
    "<br>\n",
    ">* `min_df = 0.01` means \"ignore terms that appear in less than 1% of the documents\".\n",
    ">* `min_df = 5` means \"ignore terms that appear in less than 5 documents\".\n",
    "<br><br>\n",
    ">The default `min_df` is 1, which means \"ignore terms that appear in less than 1 document\". Thus, the default setting does not ignore any terms."
   ]
  },
  {
   "cell_type": "code",
   "execution_count": 24,
   "metadata": {},
   "outputs": [],
   "source": [
    "def split_vectorize_classify(X, y, parameters, tfidf=False, ngram_range=(1, 1)):\n",
    "    \n",
    "    if tfidf:\n",
    "        pipeline = Pipeline([\n",
    "            ('vect', TfidfVectorizer(ngram_range=ngram_range)),\n",
    "            ('clf', MultinomialNB()),\n",
    "        ])\n",
    "        print('TFIDF VECTORIZER')\n",
    "    else:\n",
    "        pipeline = Pipeline([\n",
    "            ('vect', CountVectorizer(ngram_range=ngram_range)),\n",
    "            ('clf', MultinomialNB()),\n",
    "        ])\n",
    "        print('COUNT VECTORIZER')\n",
    "        \n",
    "    # Split:\n",
    "    X_train, X_test, y_train, y_test = train_test_split(X, y, random_state=32)\n",
    "    \n",
    "    # Vectorize and fit:\n",
    "    grid_search = GridSearchCV(pipeline, parameters, cv=5, n_jobs=-1)    \n",
    "    grid_search.fit(X_train, y_train)\n",
    "    \n",
    "    best_parameters = grid_search.best_estimator_.get_params()\n",
    "    best_score = grid_search.best_score_\n",
    "\n",
    "    print('Best Score: {:0.2f}%'.format(best_score*100))\n",
    "    for param_name in sorted(parameters.keys()):\n",
    "        print('\\n{}\\n\\tsearched={}\\n\\tbest={}'.format(param_name, parameters[param_name], best_parameters[param_name]))\n",
    "        \n",
    "    # Save MultinomialNB classifier:\n",
    "    clf = grid_search.best_estimator_.named_steps['clf']\n",
    "\n",
    "    # Save the vectorizer:\n",
    "    vectorizer = grid_search.best_estimator_.named_steps['vect']\n",
    "\n",
    "    clf.fit(vectorizer.fit_transform(X_train), y_train)\n",
    "    \n",
    "    print()\n",
    "    # grid_search.score(xtrain, ytrain) would also work here:\n",
    "    print(\"Accuracy on Training Data: {:0.2f}%\".format(clf.score(vectorizer.fit_transform(X_train), y_train)*100))\n",
    "\n",
    "    # grid_search.score(xtest, ytest) would also work here:\n",
    "    print(\"    Accuracy on Test Data: {:0.2f}%\".format(clf.score(vectorizer.transform(X_test), y_test)*100))\n",
    "    \n",
    "    # Classify:\n",
    "    confusion = confusion_matrix(y_test, grid_search.predict(X_test))\n",
    "    \n",
    "    return clf, vectorizer, confusion"
   ]
  },
  {
   "cell_type": "code",
   "execution_count": 25,
   "metadata": {},
   "outputs": [
    {
     "name": "stdout",
     "output_type": "stream",
     "text": [
      "\n",
      "COUNT VECTORIZER\n",
      "Best Score: 77.96%\n",
      "\n",
      "clf__alpha\n",
      "\tsearched=(0.1, 1, 5, 10)\n",
      "\tbest=1\n",
      "\n",
      "clf__fit_prior\n",
      "\tsearched=(True, False)\n",
      "\tbest=True\n",
      "\n",
      "vect__max_df\n",
      "\tsearched=(0.25, 0.5, 0.75, 1.0)\n",
      "\tbest=0.75\n",
      "\n",
      "vect__min_df\n",
      "\tsearched=(1e-05, 0.0001, 0.001, 0.01, 0.1)\n",
      "\tbest=1e-05\n",
      "\n",
      "Accuracy on Training Data: 83.27%\n",
      "    Accuracy on Test Data: 77.90%\n",
      "_________________________________________________________________\n",
      "\n",
      "TFIDF VECTORIZER\n",
      "Best Score: 77.79%\n",
      "\n",
      "clf__alpha\n",
      "\tsearched=(0.1, 1, 5, 10)\n",
      "\tbest=1\n",
      "\n",
      "clf__fit_prior\n",
      "\tsearched=(True, False)\n",
      "\tbest=False\n",
      "\n",
      "vect__max_df\n",
      "\tsearched=(0.25, 0.5, 0.75, 1.0)\n",
      "\tbest=0.75\n",
      "\n",
      "vect__min_df\n",
      "\tsearched=(1e-05, 0.0001, 0.001, 0.01, 0.1)\n",
      "\tbest=1e-05\n",
      "\n",
      "Accuracy on Training Data: 83.24%\n",
      "    Accuracy on Test Data: 77.56%\n",
      "\n"
     ]
    }
   ],
   "source": [
    "import hide_output\n",
    "\n",
    "parameters = {\n",
    "    'vect__min_df': (1e-5, 1e-4, 1e-3, 1e-2, 1e-1),\n",
    "    'vect__max_df': (0.25, 0.5, 0.75, 1.0),\n",
    "    'clf__alpha': (0.1, 1, 5, 10),\n",
    "    'clf__fit_prior': (True, False)\n",
    "}\n",
    "\n",
    "print()\n",
    "clf_count, vectorizer_count, confusion_count = split_vectorize_classify(X, y, parameters)\n",
    "print('_'*65)\n",
    "print()\n",
    "clf_tfidf, vectorizer_tfidf, confusion_tfidf = split_vectorize_classify(X, y, parameters, tfidf=True)\n",
    "print()"
   ]
  },
  {
   "cell_type": "markdown",
   "metadata": {},
   "source": [
    "### Hyper-Parameter Tuning with a Custom Metric\n",
    "From [Wikipedia](https://en.wikipedia.org/wiki/Likelihood_function):\n",
    ">In frequentist inference, a likelihood function (often simply the likelihood) is a function of the parameters of a statistical model, given specific observed data. Likelihood functions play a key role in frequentist inference, especially methods of estimating a parameter from a set of statistics. In informal contexts, \"likelihood\" is often used as a synonym for \"probability\". In mathematical statistics, the two terms have different meanings: Probability in this context describes the plausibility of (random) observed data assumed to be described by a statistical model a parameter value of which is given, without reference to any observed data; whereas likelihood in this context describes the plausibility of a parameter value of the statistical model assumed to describe the observed data, given specific observed data.\n",
    "\n",
    ">For many applications, the natural logarithm of the likelihood function, called the **log-likelihood**, is more convenient to work with. This is because we are generally interested in where the likelihood reaches its maximum value: the logarithm is a strictly increasing function, so the logarithm of a function achieves its maximum value at the same points as the function itself, and hence the log-likelihood can be used in place of the likelihood in maximum likelihood estimation and related techniques."
   ]
  },
  {
   "cell_type": "code",
   "execution_count": 26,
   "metadata": {},
   "outputs": [],
   "source": [
    "def log_likelihood(clf, X, y):\n",
    "    log_proba = clf.predict_log_proba(X)\n",
    "    rotten = y==0\n",
    "    fresh = y==1\n",
    "    return log_proba[rotten, 0].sum() + log_proba[fresh, 1].sum()"
   ]
  },
  {
   "cell_type": "code",
   "execution_count": 27,
   "metadata": {},
   "outputs": [],
   "source": [
    "def cross_val_score(clf, X, y, vectorizer, scoring_func):\n",
    "    n_folds = 5\n",
    "    sum_of_scores = 0\n",
    "    \n",
    "    # Split into 5 train/test sets, train and score each set-\n",
    "    for train, test in KFold(n_folds, random_state=32).split(X):  \n",
    "        clf.fit(vectorizer.fit_transform(X[train]), y[train])\n",
    "        sum_of_scores += scoring_func(clf, vectorizer.transform(X[test]), y[test])\n",
    "     \n",
    "    # Return the average score:\n",
    "    return sum_of_scores/n_folds"
   ]
  },
  {
   "cell_type": "code",
   "execution_count": 28,
   "metadata": {},
   "outputs": [],
   "source": [
    "def split_vect_clfy_maxlikelihood(X, y, parameters, tfidf=False, ngram_range=(1, 1)):    \n",
    "    best_max_df = None\n",
    "    best_alpha = None\n",
    "    max_score = -np.inf\n",
    "    \n",
    "    if tfidf:\n",
    "        print('TFIDF VECTORIZER')\n",
    "        # Search for best parameters by maximizing log-likelihood:\n",
    "        for min_df in parameters['vect__min_df']:\n",
    "            for max_df in parameters['vect__max_df']:\n",
    "                for alpha in parameters['clf__alpha']:\n",
    "                    for fit_prior in parameters['clf__fit_prior']:\n",
    "                        vectorizer = TfidfVectorizer(min_df=min_df, max_df=max_df, ngram_range=ngram_range)\n",
    "                        clf = MultinomialNB(alpha=alpha, fit_prior=fit_prior)\n",
    "                        score = cross_val_score(clf, X, y, vectorizer, log_likelihood)\n",
    "\n",
    "                        if score > max_score:\n",
    "                            max_score = score\n",
    "                            best_min_df, best_max_df, best_alpha, best_fit_prior = min_df, max_df, alpha, fit_prior\n",
    "                            \n",
    "        X_train, X_test, y_train, y_test = train_test_split(X, y, random_state=32)\n",
    "        vectorizer = TfidfVectorizer(min_df=best_min_df, max_df=best_max_df, ngram_range=ngram_range)\n",
    "        \n",
    "    else:\n",
    "        print('COUNT VECTORIZER')\n",
    "        # Search for best parameters by maximizing log-likelihood:\n",
    "        for min_df in parameters['vect__min_df']:\n",
    "            for max_df in parameters['vect__max_df']:\n",
    "                for alpha in parameters['clf__alpha']:\n",
    "                    for fit_prior in parameters['clf__fit_prior']:\n",
    "                        vectorizer = CountVectorizer(min_df=min_df, max_df=max_df, ngram_range=ngram_range)\n",
    "                        clf = MultinomialNB(alpha=alpha, fit_prior=fit_prior)\n",
    "                        score = cross_val_score(clf, X, y, vectorizer, log_likelihood)\n",
    "\n",
    "                        if score > max_score:\n",
    "                            max_score = score\n",
    "                            best_min_df, best_max_df, best_alpha, best_fit_prior = min_df, max_df, alpha, fit_prior\n",
    "                            \n",
    "        X_train, X_test, y_train, y_test = train_test_split(X, y, random_state=32)\n",
    "        vectorizer = CountVectorizer(min_df=best_min_df, max_df=best_max_df, ngram_range=ngram_range)\n",
    "    \n",
    "    print(\"Best min_df: {}\\nBest max_df: {}\\nBest alpha: {}\\nBest fit_prior: {}\".format(best_min_df, best_max_df, best_alpha, best_fit_prior))\n",
    "    print()\n",
    "    \n",
    "    X_train = vectorizer.fit_transform(X_train)\n",
    "    X_test = vectorizer.transform(X_test)\n",
    "\n",
    "    clf = MultinomialNB(alpha=best_alpha, fit_prior=best_fit_prior).fit(X_train, y_train)\n",
    "    \n",
    "    print(\"Accuracy on Training Data: {:0.2f}%\".format(clf.score(X_train, y_train)*100))\n",
    "    print(\"    Accuracy on Test Data: {:0.2f}%\".format(clf.score(X_test, y_test)*100))\n",
    "    \n",
    "    # Classify:\n",
    "    confusion = confusion_matrix(y_test, clf.predict(X_test))\n",
    "    \n",
    "    return clf, vectorizer, confusion"
   ]
  },
  {
   "cell_type": "code",
   "execution_count": 29,
   "metadata": {},
   "outputs": [
    {
     "name": "stdout",
     "output_type": "stream",
     "text": [
      "\n",
      "COUNT VECTORIZER\n",
      "Best min_df: 0.0001\n",
      "Best max_df: 0.25\n",
      "Best alpha: 10\n",
      "Best fit_prior: True\n",
      "\n",
      "Accuracy on Training Data: 79.83%\n",
      "    Accuracy on Test Data: 77.65%\n",
      "_________________________________________________________________\n",
      "\n",
      "TFIDF VECTORIZER\n",
      "Best min_df: 0.0001\n",
      "Best max_df: 0.25\n",
      "Best alpha: 0.1\n",
      "Best fit_prior: True\n",
      "\n",
      "Accuracy on Training Data: 80.40%\n",
      "    Accuracy on Test Data: 77.01%\n",
      "\n"
     ]
    }
   ],
   "source": [
    "print()\n",
    "clf_count_ml, vectorizer_count_ml, confusion_count_ml = split_vect_clfy_maxlikelihood(X, y, parameters)\n",
    "print('_'*65)\n",
    "print()\n",
    "clf_tfidf_ml, vectorizer_tfidf_ml, confusion_tfidf_ml = split_vect_clfy_maxlikelihood(X, y, parameters, tfidf=True)\n",
    "print()"
   ]
  },
  {
   "cell_type": "markdown",
   "metadata": {},
   "source": [
    "The model with the least amount of overfit and second best accuracy on the test data is the one for which the count vectorizer was implemented and the log-likelihood was used as the evaluation metric."
   ]
  },
  {
   "cell_type": "code",
   "execution_count": 30,
   "metadata": {},
   "outputs": [],
   "source": [
    "clf = clf_count_ml\n",
    "vectorizer = vectorizer_count_ml\n",
    "confusion = confusion_count_ml"
   ]
  },
  {
   "cell_type": "code",
   "execution_count": 31,
   "metadata": {},
   "outputs": [
    {
     "data": {
      "image/png": "[encoded data removed]",
      "text/plain": [
       "<Figure size 432x288 with 1 Axes>"
      ]
     },
     "metadata": {},
     "output_type": "display_data"
    }
   ],
   "source": [
    "sns.countplot(df.freshness)\n",
    "plt.xlabel('');"
   ]
  },
  {
   "cell_type": "code",
   "execution_count": 32,
   "metadata": {},
   "outputs": [
    {
     "data": {
      "image/png": "[encoded data removed]",
      "text/plain": [
       "<Figure size 432x288 with 2 Axes>"
      ]
     },
     "metadata": {},
     "output_type": "display_data"
    }
   ],
   "source": [
    "labels = np.array([['true rotten','false fresh'], ['false rotten','true fresh']])\n",
    "sns.heatmap(confusion, annot=labels, fmt='');"
   ]
  },
  {
   "cell_type": "markdown",
   "metadata": {},
   "source": [
    "This indicates the chosen model isn't terribly confused. False predictions for either class are much lower than true predictions, and the errors appear to be evenly split. There are about 7000 more true fresh predictions than true rotten predictions, but there are about 20,000 more fresh reviews in the dataset than rotten reviews."
   ]
  },
  {
   "cell_type": "markdown",
   "metadata": {},
   "source": [
    "### Predictive Words (Features)"
   ]
  },
  {
   "cell_type": "code",
   "execution_count": 33,
   "metadata": {},
   "outputs": [
    {
     "name": "stdout",
     "output_type": "stream",
     "text": [
      "Fresh words\t\tP(fresh|word)\n",
      "            intimate \t0.91\n",
      "       heartbreaking \t0.90\n",
      "             quietly \t0.90\n",
      "              deftly \t0.90\n",
      "         beautifully \t0.89\n",
      "          engrossing \t0.89\n",
      "              richly \t0.89\n",
      "          accessible \t0.89\n",
      "           absorbing \t0.89\n",
      "         devastating \t0.89\n",
      "\n",
      "Rotten words\t\tP(fresh|word)\n",
      "             misfire \t0.16\n",
      "               inert \t0.16\n",
      "           squanders \t0.16\n",
      "                dull \t0.15\n",
      "                lame \t0.15\n",
      "             joyless \t0.14\n",
      "          uninspired \t0.14\n",
      "               fails \t0.13\n",
      "       unfortunately \t0.10\n",
      "             unfunny \t0.07\n"
     ]
    }
   ],
   "source": [
    "words = np.array(vectorizer.get_feature_names())\n",
    "\n",
    "# Save identity matrix where each row represents exactly one feature (word):\n",
    "x = np.identity(len(words))\n",
    "\n",
    "# Use the trained model to classify individual words as reviews and return the probability:\n",
    "probability = clf.predict_log_proba(x)[:, 0]\n",
    "\n",
    "# Sort (ascending) the matrix rows by probability and return the corresponding indices:\n",
    "indices = np.argsort(probability)\n",
    "\n",
    "# Filter the words list to find the ten most likely to indicate fresh or rotten:\n",
    "fresh_words = words[indices[:10]]\n",
    "rotten_words = words[indices[-10:]]\n",
    "\n",
    "fresh_prob = probability[indices[:10]]\n",
    "rotten_prob = probability[indices[-10:]]\n",
    "\n",
    "# Display 10 most fresh and rotten words with the probability that the word is fresh:\n",
    "print('Fresh words\\t\\tP(fresh|word)')\n",
    "for word, p in zip(fresh_words, fresh_prob):\n",
    "    print('{:>20}'.format(word), '\\t{:0.2f}'.format(1 - np.exp(p)))\n",
    "\n",
    "print()\n",
    "\n",
    "print('Rotten words\\t\\tP(fresh|word)')\n",
    "for word, p in zip(rotten_words, rotten_prob):\n",
    "    print('{:>20}'.format(word), '\\t{:0.2f}'.format(1 - np.exp(p)))"
   ]
  },
  {
   "cell_type": "markdown",
   "metadata": {},
   "source": [
    "### Incorrectly Classified Reviews"
   ]
  },
  {
   "cell_type": "code",
   "execution_count": 34,
   "metadata": {},
   "outputs": [
    {
     "name": "stdout",
     "output_type": "stream",
     "text": [
      "Top 5 Incorrectly Classified Rotten Reviews\n",
      "-------------------------------------------\n",
      " Is this really an honest portrait of a beautiful and intense friendship between women? What's intense about it, or beautiful, or honest? (Miss You Already)\n",
      "\n",
      " Darkest Hour invites viewers inside the heart and mind of a great leader but never really captures his deep rapport with the British people, which turned out to be one of his greatest political assets. Dunkirk takes a more populist approach. (Darkest Hour)\n",
      "\n",
      " A tantalizing and beautiful picture made with tremendous integrity, and anchored by two marvelous performances, Isabel Coixet's The Secret Life of Words still, somehow, doesn't quite work. (The Secret Life of Words)\n",
      "\n",
      " What pleasure there is to be wrung from the exceptionally banal The Secret Life of Words lies in the harsh, unforgiving beauty (lyrically shot by Jean-Claude Larrieu) and wonderfully strange social life of the isolated rig. (The Secret Life of Words)\n",
      "\n",
      " The life at the movie's center speaks to what an artist sometimes gives up for art. If only we experienced that sacrifice, that turmoil, more vividly. (Mao's Last Dancer)\n",
      "\n",
      "Top 5 Incorrectly Classified Fresh Reviews\n",
      "------------------------------------------\n",
      " The movie has been labeled 'stilted,' 'soporific,' and 'a pretentious, meandering mess.' But you certainly couldn't call it conventional, predictable, or pandering. This film is stubbornly, almost insanely, itself. (Youth Without Youth)\n",
      "\n",
      " I enjoyed \"Gods of Egypt\" despite the lazily generic non-story, the dubious Eurocentric casting and (intentionally?) unconvincing effects that make you wonder (another imponderable) why they didn't just make this an animated picture. (Gods Of Egypt)\n",
      "\n",
      " Delayed, re-titled and presumably at least partially re-shot, Jesse Peretz's troubled office-bound romantic comedy The Ex is as half-baked as you'd expect it to be, but the better half -- the office half -- really does cook. (The Ex)\n",
      "\n",
      " As usual, this latest Perry Madea flick is all about laughs - nothing less and nothing more. With Boo!, you'll laugh hard, even when the jokes feel too slapsticky, too vulgar, too over-the-top. (Tyler Perry's Boo! A Madea Halloween)\n",
      "\n",
      " It's a little too obvious and ham-handed in places to be a really good movie, but any film that lasts two hours and 20 minutes without seeming like a long, hard slog can't be all bad. (Robin Hood)\n",
      "\n"
     ]
    }
   ],
   "source": [
    "# Save probability for all observations:\n",
    "probability = clf.predict_proba(vectorizer.transform(X))[:, 0]\n",
    "\n",
    "# Filter by true class, sort and save the index for top and bottom values:\n",
    "wrong_rotten = np.argsort(probability[y == 0])[:5]\n",
    "wrong_fresh = np.argsort(probability[y == 1])[-5:]\n",
    "\n",
    "print('Top 5 Incorrectly Classified Rotten Reviews')\n",
    "print('-------------------------------------------')\n",
    "for row in wrong_rotten:\n",
    "    print(df[y == 0].review_quote.iloc[row], '({})'.format(df[y == 0].movie.iloc[row]))\n",
    "    print()\n",
    "\n",
    "print('Top 5 Incorrectly Classified Fresh Reviews')\n",
    "print('------------------------------------------')\n",
    "for row in wrong_fresh:\n",
    "    print(df[y == 1].review_quote.iloc[row], '({})'.format(df[y == 1].movie.iloc[row]))\n",
    "    print()"
   ]
  },
  {
   "cell_type": "markdown",
   "metadata": {},
   "source": [
    "The model obviously struggles with ambiguity."
   ]
  },
  {
   "cell_type": "markdown",
   "metadata": {},
   "source": [
    "### Predict Freshness of New Reviews"
   ]
  },
  {
   "cell_type": "code",
   "execution_count": 35,
   "metadata": {},
   "outputs": [
    {
     "name": "stdout",
     "output_type": "stream",
     "text": [
      "\n",
      "\"This movie is not remarkable in any way.\"\n",
      "Prediction: 77.43% likely FRESH\n",
      "\n",
      "\"The movie is remarkable in every way!\"\n",
      "Prediction: 85.12% likely FRESH\n",
      "\n",
      "\"Airplane! never gets old. My kid laughed throughout the entire thirty-something year old classic.\"\n",
      "Prediction: 79.82% likely FRESH\n",
      "\n",
      "\"The only hours I've ever wished to have back were the two I spent watching Inception.\"\n",
      "Prediction: 86.00% likely ROTTEN\n",
      "\n"
     ]
    }
   ],
   "source": [
    "reviews = [\n",
    "    [\"This movie is not remarkable in any way.\"],\n",
    "    [\"The movie is remarkable in every way!\"],\n",
    "    [\"Airplane! never gets old. My kid laughed throughout the entire thirty-something year old classic.\"],\n",
    "    # From someone who gets migraines (with non-stop vomitting):\n",
    "    [\"The only hours I've ever wished to have back were the two I spent watching Inception.\"]\n",
    "]\n",
    "print()\n",
    "for review in reviews:\n",
    "    transformed = vectorizer.transform(review)\n",
    "    print('\"{}\"'.format(review[0]))\n",
    "    if clf.predict(transformed) == 1:\n",
    "        print('Prediction: {:0.2f}% likely FRESH\\n'.format(clf.predict_proba(transformed)[0][1]*100))\n",
    "    else:\n",
    "        print('Prediction: {:0.2f}% likely ROTTEN\\n'.format(clf.predict_proba(transformed)[0][0]*100))"
   ]
  },
  {
   "cell_type": "markdown",
   "metadata": {},
   "source": [
    "This is another indication that the model may benefit from considering more than one word as a feature. "
   ]
  },
  {
   "cell_type": "markdown",
   "metadata": {},
   "source": [
    "---\n",
    "## N-GRAMS"
   ]
  },
  {
   "cell_type": "code",
   "execution_count": 36,
   "metadata": {},
   "outputs": [
    {
     "name": "stdout",
     "output_type": "stream",
     "text": [
      "Minimum 1 word, Maximum 2 words\n",
      "\n",
      "COUNT VECTORIZER\n",
      "Best min_df: 0.0001\n",
      "Best max_df: 0.25\n",
      "Best alpha: 10\n",
      "Best fit_prior: True\n",
      "\n",
      "Accuracy on Training Data: 81.92%\n",
      "    Accuracy on Test Data: 78.79%\n",
      "_________________________________________________________________\n",
      "\n",
      "TFIDF VECTORIZER\n",
      "Best min_df: 1e-05\n",
      "Best max_df: 0.25\n",
      "Best alpha: 0.1\n",
      "Best fit_prior: True\n",
      "\n",
      "Accuracy on Training Data: 94.26%\n",
      "    Accuracy on Test Data: 79.61%\n",
      "\n"
     ]
    }
   ],
   "source": [
    "print('Minimum 1 word, Maximum 2 words')\n",
    "print()\n",
    "clf_count_1_2_ml, vectorizer_count_1_2_ml, confusion_count_1_2_ml = split_vect_clfy_maxlikelihood(X, y, parameters, ngram_range=(1, 2))\n",
    "print('_'*65)\n",
    "print()\n",
    "clf_tfidf_1_2_ml, vectorizer_tfidf_1_2_ml, confusion_tfidf_1_2_ml = split_vect_clfy_maxlikelihood(X, y, parameters, tfidf=True, ngram_range=(1, 2))\n",
    "print()"
   ]
  },
  {
   "cell_type": "code",
   "execution_count": 37,
   "metadata": {},
   "outputs": [],
   "source": [
    "clf = clf_count_1_2_ml\n",
    "vectorizer = vectorizer_count_1_2_ml\n",
    "confusion = confusion_count_1_2_ml"
   ]
  },
  {
   "cell_type": "code",
   "execution_count": 38,
   "metadata": {},
   "outputs": [
    {
     "data": {
      "image/png": "[encoded data removed]",
      "text/plain": [
       "<Figure size 432x288 with 2 Axes>"
      ]
     },
     "metadata": {},
     "output_type": "display_data"
    }
   ],
   "source": [
    "sns.heatmap(confusion, annot=labels, fmt='');"
   ]
  },
  {
   "cell_type": "markdown",
   "metadata": {},
   "source": [
    "### Predictive Words/Phrases (Features)"
   ]
  },
  {
   "cell_type": "code",
   "execution_count": 39,
   "metadata": {},
   "outputs": [
    {
     "name": "stdout",
     "output_type": "stream",
     "text": [
      "Fresh  words/phrases\tP(fresh|word/phrase)\n",
      "        worth seeing \t0.91\n",
      "            intimate \t0.91\n",
      "           year best \t0.91\n",
      "       heartbreaking \t0.90\n",
      "             quietly \t0.90\n",
      "              deftly \t0.90\n",
      "          well worth \t0.90\n",
      "         beautifully \t0.90\n",
      "          engrossing \t0.89\n",
      "              richly \t0.89\n",
      "\n",
      "Rotten words/phrases\tP(fresh|word/phrase)\n",
      "                dull \t0.16\n",
      "            flat and \t0.15\n",
      "                lame \t0.15\n",
      "             joyless \t0.15\n",
      "          uninspired \t0.14\n",
      "          problem is \t0.13\n",
      "               fails \t0.13\n",
      "            fails to \t0.13\n",
      "       unfortunately \t0.11\n",
      "             unfunny \t0.07\n"
     ]
    }
   ],
   "source": [
    "words = np.array(vectorizer.get_feature_names())\n",
    "\n",
    "# Save identity matrix where each row represents exactly one feature (word):\n",
    "x = np.identity(len(words))\n",
    "\n",
    "# Use the trained model to classify individual words as reviews and return the probability:\n",
    "probability = clf.predict_log_proba(x)[:, 0]\n",
    "\n",
    "# Sort (ascending) the matrix rows by probability and return the corresponding indices:\n",
    "indices = np.argsort(probability)\n",
    "\n",
    "# Filter the words list to find the ten most likely to indicate fresh or rotten:\n",
    "fresh_words = words[indices[:10]]\n",
    "rotten_words = words[indices[-10:]]\n",
    "\n",
    "fresh_prob = probability[indices[:10]]\n",
    "rotten_prob = probability[indices[-10:]]\n",
    "\n",
    "# Display 10 most fresh and rotten words with the probability that the word is fresh:\n",
    "print('Fresh  words/phrases\\tP(fresh|word/phrase)')\n",
    "for word, p in zip(fresh_words, fresh_prob):\n",
    "    print('{:>20}'.format(word), '\\t{:0.2f}'.format(1 - np.exp(p)))\n",
    "\n",
    "print()\n",
    "\n",
    "print('Rotten words/phrases\\tP(fresh|word/phrase)')\n",
    "for word, p in zip(rotten_words, rotten_prob):\n",
    "    print('{:>20}'.format(word), '\\t{:0.2f}'.format(1 - np.exp(p)))"
   ]
  },
  {
   "cell_type": "markdown",
   "metadata": {},
   "source": [
    "### Incorrectly Classified Reviews"
   ]
  },
  {
   "cell_type": "code",
   "execution_count": 40,
   "metadata": {},
   "outputs": [
    {
     "name": "stdout",
     "output_type": "stream",
     "text": [
      "Top 5 Incorrectly Classified Rotten Reviews\n",
      "-------------------------------------------\n",
      " \"The Light Between Oceans\" is easily one of the year's most visually stunning films. Ironically, it's also one of the most difficult to watch. (The Light Between Oceans)\n",
      "\n",
      " If you missed Disney's last dip into Milne - the 2011 animated feature Winnie the Pooh - it's sweet and moving and beautiful and an all-ages delight. It's everything that Christopher Robin isn't. (Christopher Robin)\n",
      "\n",
      " Darkest Hour invites viewers inside the heart and mind of a great leader but never really captures his deep rapport with the British people, which turned out to be one of his greatest political assets. Dunkirk takes a more populist approach. (Darkest Hour)\n",
      "\n",
      " Is this really an honest portrait of a beautiful and intense friendship between women? What's intense about it, or beautiful, or honest? (Miss You Already)\n",
      "\n",
      " Meant as a passionate chronicle of a great love, and a sobering reminder of the stigma of AIDS, the pic blandly conjures these sentiments and stands as one of the more wrong-footed evocations of coming out in the 1970s and '80s. (Holding The Man)\n",
      "\n",
      "Top 5 Incorrectly Classified Fresh Reviews\n",
      "------------------------------------------\n",
      " True, the script overreaches, crammed with too many characters, subplots and stereotypes. But at least it's trying. And at least there isn't a phony in the bunch. (Jumping the Broom)\n",
      "\n",
      " It's a little too obvious and ham-handed in places to be a really good movie, but any film that lasts two hours and 20 minutes without seeming like a long, hard slog can't be all bad. (Robin Hood)\n",
      "\n",
      " The roles are paper thin, which is too bad considering the talent of the cast. They have all been better. Molina and Leguizamo, in particular, deserve better material. (Nothing Like the Holidays)\n",
      "\n",
      " The problem with the romantic \"Safe Haven\" isn't that it plays it safe, but that it plays it cheap. It's also about 10 minutes too long. And there's a final twist that, well, if you have any popcorn left by the scene, you'll want to throw it at the screen. (Safe Haven)\n",
      "\n",
      " The problem with Babel isn't that it's a bad movie. It's a good movie, or, more accurately, it's several pieces of good movie, chopped up in service of a pretentious, portentous and slightly silly artistic vision. (Babel)\n",
      "\n"
     ]
    }
   ],
   "source": [
    "# Save probability for all observations:\n",
    "probability = clf.predict_proba(vectorizer.transform(X))[:, 0]\n",
    "\n",
    "# Filter by true class, sort and save the index for top and bottom values:\n",
    "wrong_rotten = np.argsort(probability[y == 0])[:5]\n",
    "wrong_fresh = np.argsort(probability[y == 1])[-5:]\n",
    "\n",
    "print('Top 5 Incorrectly Classified Rotten Reviews')\n",
    "print('-------------------------------------------')\n",
    "for row in wrong_rotten:\n",
    "    print(df[y == 0].review_quote.iloc[row], '({})'.format(df[y == 0].movie.iloc[row]))\n",
    "    print()\n",
    "\n",
    "print('Top 5 Incorrectly Classified Fresh Reviews')\n",
    "print('------------------------------------------')\n",
    "for row in wrong_fresh:\n",
    "    print(df[y == 1].review_quote.iloc[row], '({})'.format(df[y == 1].movie.iloc[row]))\n",
    "    print()"
   ]
  },
  {
   "cell_type": "markdown",
   "metadata": {},
   "source": [
    "### Predict Freshness of New Reviews"
   ]
  },
  {
   "cell_type": "code",
   "execution_count": 41,
   "metadata": {},
   "outputs": [
    {
     "name": "stdout",
     "output_type": "stream",
     "text": [
      "\n",
      "\"This movie is not remarkable in any way.\"\n",
      "Prediction: 57.03% likely ROTTEN\n",
      "\n",
      "\"The movie is remarkable in every way!\"\n",
      "Prediction: 92.51% likely FRESH\n",
      "\n",
      "\"Airplane! never gets old. My kid laughed throughout the entire thirty-something year old classic.\"\n",
      "Prediction: 69.56% likely FRESH\n",
      "\n",
      "\"The only hours I've ever wished to have back were the two I spent watching Inception.\"\n",
      "Prediction: 96.68% likely ROTTEN\n",
      "\n"
     ]
    }
   ],
   "source": [
    "reviews = [\n",
    "    [\"This movie is not remarkable in any way.\"],\n",
    "    [\"The movie is remarkable in every way!\"],\n",
    "    [\"Airplane! never gets old. My kid laughed throughout the entire thirty-something year old classic.\"],\n",
    "    [\"The only hours I've ever wished to have back were the two I spent watching Inception.\"]\n",
    "]\n",
    "print()\n",
    "for review in reviews:\n",
    "    transformed = vectorizer.transform(review)\n",
    "    print('\"{}\"'.format(review[0]))\n",
    "    if clf.predict(transformed) == 1:\n",
    "        print('Prediction: {:0.2f}% likely FRESH\\n'.format(clf.predict_proba(transformed)[0][1]*100))\n",
    "    else:\n",
    "        print('Prediction: {:0.2f}% likely ROTTEN\\n'.format(clf.predict_proba(transformed)[0][0]*100))"
   ]
  },
  {
   "cell_type": "markdown",
   "metadata": {},
   "source": [
    "Most satisfying is that it also recognized how much I hated Inception. :)"
   ]
  },
  {
   "cell_type": "markdown",
   "metadata": {},
   "source": [
    "---\n",
    "## SUMMARY\n",
    "Working with a corpus of 144,595 small documents (1-2 sentence reviews), Multinomial Naive Bayes classification was implemented on models for which:\n",
    "* vectorization of the corpus involved basic counting, or\n",
    "* the vectorized count was normalized;\n",
    "* scikit-learn's default scoring metric (accuracy) was used for hyperparameter tuning, or\n",
    "* the log-likelihood was maximized during hyperparameter tuning;\n",
    "* features contained exactly one word, or\n",
    "* features could include 1-2 words.\n",
    "\n",
    "Normalization never helped and resulted in over-fit training data. Both scoring metrics returned similar results, but maximizing the log-likelihood involved the least amount of over-fitting. Considering features as 1-2 words improved performance, namely in the test exercise meant to confuse the model.\n",
    "\n",
    "---\n",
    "This started as an assignment using a much smaller dataset of 15,534 reviews. The same models were tested, but over-fitting was a lot more dramatic in every case, and the best model wasn't very precise. [Here is that notebook.](http://nbviewer.jupyter.org/github/humburgc/text_classification/blob/master/assigned_dataset.ipynb)"
   ]
  }
 ],
 "metadata": {
  "kernelspec": {
   "display_name": "Python 3",
   "language": "python",
   "name": "python3"
  },
  "language_info": {
   "codemirror_mode": {
    "name": "ipython",
    "version": 3
   },
   "file_extension": ".py",
   "mimetype": "text/x-python",
   "name": "python",
   "nbconvert_exporter": "python",
   "pygments_lexer": "ipython3",
   "version": "3.6.4"
  }
 },
 "nbformat": 4,
 "nbformat_minor": 1
}
